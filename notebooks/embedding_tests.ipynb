{
 "cells": [
  {
   "cell_type": "code",
   "execution_count": 805,
   "id": "cab7af00",
   "metadata": {},
   "outputs": [],
   "source": [
    "import sys  \n",
    "# sys.path.insert(0, '../')\n",
    "# sys.path.append(\"..\")"
   ]
  },
  {
   "cell_type": "code",
   "execution_count": 809,
   "id": "738b93db",
   "metadata": {},
   "outputs": [
    {
     "data": {
      "text/plain": [
       "'/home/antonios/repos/incremental_rec_base_code/notebooks'"
      ]
     },
     "execution_count": 809,
     "metadata": {},
     "output_type": "execute_result"
    }
   ],
   "source": [
    "%pwd"
   ]
  },
  {
   "cell_type": "code",
   "execution_count": 808,
   "id": "b13921c5",
   "metadata": {
    "scrolled": true
   },
   "outputs": [
    {
     "name": "stdout",
     "output_type": "stream",
     "text": [
      "/home/antonios/repos/incremental_rec_base_code/notebooks\n"
     ]
    }
   ],
   "source": [
    "# %cd notebooks"
   ]
  },
  {
   "cell_type": "code",
   "execution_count": 810,
   "id": "51b3fd91",
   "metadata": {},
   "outputs": [],
   "source": [
    "import tensorflow as tf\n",
    "import numpy as np\n",
    "from scipy.stats import chisquare\n",
    "from scipy.stats import pearsonr\n",
    "import tensorflow as tf\n",
    "from sklearn.cluster import KMeans\n",
    "from tqdm.notebook import tqdm\n",
    "from data_utils.data_generator import Data\n",
    "import pandas as pd\n",
    "import matplotlib.pyplot as plt\n",
    "import matplotlib.cm as cm\n",
    "import matplotlib\n",
    "from matplotlib.patches import Rectangle\n",
    "import os\n",
    "import scipy.stats\n",
    "from collections import defaultdict\n",
    "import seaborn as sns\n",
    "from multiprocessing import Pool\n",
    "# sns.set_theme(style=\"whitegrid\")\n",
    "sns.set_theme(style=\"ticks\")"
   ]
  },
  {
   "cell_type": "code",
   "execution_count": 811,
   "id": "6a5145b2",
   "metadata": {},
   "outputs": [
    {
     "data": {
      "text/plain": [
       "array([[-0.00141193,  0.00927708,  0.01027245, ..., -0.01036311,\n",
       "        -0.00705116, -0.01059608],\n",
       "       [-0.03116024,  0.02192542,  0.0152043 , ..., -0.02022689,\n",
       "        -0.00942417, -0.00768674],\n",
       "       [-0.01561655,  0.01556659,  0.01232312, ..., -0.01460884,\n",
       "        -0.00894723, -0.00871485],\n",
       "       ...,\n",
       "       [ 0.00680377, -0.00066712, -0.00091042, ...,  0.00664533,\n",
       "         0.00040859, -0.00735403],\n",
       "       [ 0.02812242, -0.02524598, -0.02152478, ...,  0.02135604,\n",
       "         0.01091902,  0.01378595],\n",
       "       [-0.01626592,  0.02066729,  0.01573579, ..., -0.01825368,\n",
       "        -0.01395829, -0.01480484]])"
      ]
     },
     "execution_count": 811,
     "metadata": {},
     "output_type": "execute_result"
    }
   ],
   "source": [
    "np.load('../Sanity_check/Gowalla-20/i_emb_b0e1.npy')-np.load('../Sanity_check/Gowalla-20/i_emb_b0e2.npy') # first layer"
   ]
  },
  {
   "cell_type": "code",
   "execution_count": 812,
   "id": "c1f6b4ea",
   "metadata": {},
   "outputs": [
    {
     "data": {
      "text/plain": [
       "array([[-0.02523282, -0.06616146,  0.03161509, ...,  0.01541865,\n",
       "         0.00952103,  0.03397046],\n",
       "       [-0.06340286, -0.08120327,  0.08351526, ...,  0.01963532,\n",
       "         0.06925605,  0.0295751 ],\n",
       "       [-0.06523325, -0.11216206,  0.10618272, ...,  0.02750571,\n",
       "         0.04769871,  0.05409094],\n",
       "       ...,\n",
       "       [ 0.03827883, -0.0763162 , -0.03519423, ...,  0.04662219,\n",
       "        -0.00865903, -0.01926437],\n",
       "       [ 0.0281087 ,  0.0865013 , -0.00563198, ..., -0.10261652,\n",
       "        -0.07381214, -0.05110321],\n",
       "       [-0.06536951, -0.00806747,  0.04124508, ..., -0.05386134,\n",
       "         0.05314587,  0.00681969]])"
      ]
     },
     "execution_count": 812,
     "metadata": {},
     "output_type": "execute_result"
    }
   ],
   "source": [
    "np.load('../Sanity_check/Gowalla-20/i_rep_b0e1.npy')-np.load('../Sanity_check/Gowalla-20/i_rep_b0e2.npy') # last layer"
   ]
  },
  {
   "cell_type": "code",
   "execution_count": 813,
   "id": "42e4b1c0",
   "metadata": {},
   "outputs": [
    {
     "data": {
      "text/plain": [
       "array([[ 0.        ,  0.        ,  0.        , ...,  0.        ,\n",
       "         0.        ,  0.        ],\n",
       "       [ 0.11116969, -0.20885044,  0.03463325, ...,  0.28648898,\n",
       "        -0.0342051 ,  0.06872069],\n",
       "       [ 0.02259343, -0.03977606, -0.0246038 , ...,  0.00753371,\n",
       "        -0.05927214, -0.02168302],\n",
       "       ...,\n",
       "       [ 0.        ,  0.        ,  0.        , ...,  0.        ,\n",
       "         0.        ,  0.        ],\n",
       "       [ 0.11151698, -0.19750876, -0.01170402, ...,  0.23378938,\n",
       "        -0.02955455,  0.07651853],\n",
       "       [ 0.        ,  0.        ,  0.        , ...,  0.        ,\n",
       "         0.        ,  0.        ]])"
      ]
     },
     "execution_count": 813,
     "metadata": {},
     "output_type": "execute_result"
    }
   ],
   "source": [
    "np.load('../Sanity_check/Gowalla-20/u_rep_b0e2.npy')-np.load('../Sanity_check/Gowalla-20/u_rep_b0e3.npy') # last layer"
   ]
  },
  {
   "cell_type": "code",
   "execution_count": 814,
   "id": "90ccc3e0",
   "metadata": {},
   "outputs": [
    {
     "data": {
      "text/plain": [
       "array([[ 0.        ,  0.        ,  0.        , ...,  0.        ,\n",
       "         0.        ,  0.        ],\n",
       "       [-0.26450217, -0.25268292, -0.01584368, ...,  0.31444245,\n",
       "        -0.07940836, -0.21031743],\n",
       "       [ 0.34321488, -0.0927035 , -0.42268493, ...,  0.49208882,\n",
       "         0.10062252, -0.03912431],\n",
       "       ...,\n",
       "       [ 0.        ,  0.        ,  0.        , ...,  0.        ,\n",
       "         0.        ,  0.        ],\n",
       "       [ 0.29573864, -0.27759114, -0.24394307, ...,  0.39582563,\n",
       "        -0.05433907,  0.07249454],\n",
       "       [ 0.        ,  0.        ,  0.        , ...,  0.        ,\n",
       "         0.        ,  0.        ]])"
      ]
     },
     "execution_count": 814,
     "metadata": {},
     "output_type": "execute_result"
    }
   ],
   "source": [
    "np.load('../Sanity_check/Gowalla-20/u_rep_b0e1.npy')-np.load('../Sanity_check/Gowalla-20/u_rep_b0e23.npy') # last layer"
   ]
  },
  {
   "cell_type": "code",
   "execution_count": 815,
   "id": "ca12c6a2",
   "metadata": {},
   "outputs": [
    {
     "data": {
      "text/plain": [
       "array([[0., 0., 0., ..., 0., 0., 0.],\n",
       "       [0., 0., 0., ..., 0., 0., 0.],\n",
       "       [0., 0., 0., ..., 0., 0., 0.],\n",
       "       ...,\n",
       "       [0., 0., 0., ..., 0., 0., 0.],\n",
       "       [0., 0., 0., ..., 0., 0., 0.],\n",
       "       [0., 0., 0., ..., 0., 0., 0.]])"
      ]
     },
     "execution_count": 815,
     "metadata": {},
     "output_type": "execute_result"
    }
   ],
   "source": [
    "np.load('../Sanity_check/Gowalla-20/g_norm_b0e1.npy')-np.load('../Sanity_check/Gowalla-20/g_norm_b0e2.npy')[:5569]"
   ]
  },
  {
   "cell_type": "code",
   "execution_count": 816,
   "id": "8c7b1198",
   "metadata": {},
   "outputs": [
    {
     "data": {
      "text/plain": [
       "array([[-3.35928926e-05,  3.46877106e-05, -4.00125998e-05, ...,\n",
       "         5.89786792e-06, -2.50583420e-05,  2.97889272e-05],\n",
       "       [ 1.08149138e-04, -1.21926789e-04,  1.34945198e-04, ...,\n",
       "        -1.97985844e-05,  9.07002988e-05, -9.84286528e-05],\n",
       "       [ 5.02340045e-06, -5.74360530e-06,  6.41609582e-06, ...,\n",
       "        -8.85335725e-07,  3.65248467e-06, -4.32613097e-06],\n",
       "       ...,\n",
       "       [-1.06072547e-04,  1.13165193e-04, -1.31759261e-04, ...,\n",
       "         1.73342160e-05, -7.67856723e-05,  8.62017229e-05],\n",
       "       [ 1.15421186e-04, -1.25642798e-04,  1.43230368e-04, ...,\n",
       "        -1.84450740e-05,  8.10681020e-05, -9.50490565e-05],\n",
       "       [-1.43518359e-04,  1.50489870e-04, -1.68606053e-04, ...,\n",
       "         2.15631375e-05, -9.70352495e-05,  1.20546029e-04]])"
      ]
     },
     "execution_count": 816,
     "metadata": {},
     "output_type": "execute_result"
    }
   ],
   "source": [
    "np.load('../Sanity_check/Gowalla-20/g_norm_b1e1.npy')-np.load('../Sanity_check/Gowalla-20/g_norm_b1e7.npy')"
   ]
  },
  {
   "cell_type": "code",
   "execution_count": 817,
   "id": "7be6f508",
   "metadata": {},
   "outputs": [
    {
     "data": {
      "text/plain": [
       "array([[0.09612541, 0.10341443, 0.10168828, ..., 0.09965541, 0.10160949,\n",
       "        0.10052182],\n",
       "       [0.10211773, 0.10242526, 0.09637846, ..., 0.09881424, 0.10318491,\n",
       "        0.10312153],\n",
       "       [0.10118618, 0.09652311, 0.10319955, ..., 0.09947798, 0.09781911,\n",
       "        0.09738651],\n",
       "       ...,\n",
       "       [0.09873463, 0.10059429, 0.09845913, ..., 0.10036244, 0.10128797,\n",
       "        0.09965854],\n",
       "       [0.0984432 , 0.10061341, 0.10319772, ..., 0.09955085, 0.10050235,\n",
       "        0.10013645],\n",
       "       [0.10043471, 0.10068252, 0.10233476, ..., 0.10449587, 0.09878558,\n",
       "        0.10124592]])"
      ]
     },
     "execution_count": 817,
     "metadata": {},
     "output_type": "execute_result"
    }
   ],
   "source": [
    "np.load('../Sanity_check/Gowalla-20/g_norm_b0e7.npy')"
   ]
  },
  {
   "cell_type": "code",
   "execution_count": 818,
   "id": "ad1515d5",
   "metadata": {},
   "outputs": [
    {
     "data": {
      "text/plain": [
       "array([[ 2.70524650e-07, -1.89640279e-07, -1.97554870e-07, ...,\n",
       "         1.54766644e-07,  1.55400231e-07,  2.52274203e-07],\n",
       "       [-8.90124031e-07,  6.51794667e-07,  6.68959090e-07, ...,\n",
       "        -4.77562029e-07, -5.81770404e-07, -8.24327423e-07],\n",
       "       [-4.17842895e-08,  3.02241590e-08,  3.12232131e-08, ...,\n",
       "        -2.21544664e-08, -2.38859720e-08, -3.68156496e-08],\n",
       "       ...,\n",
       "       [ 8.86069821e-07, -5.89222900e-07, -6.25742736e-07, ...,\n",
       "         4.67366695e-07,  5.07353449e-07,  7.50993960e-07],\n",
       "       [-9.73185189e-07,  6.44785110e-07,  6.68130111e-07, ...,\n",
       "        -5.09336697e-07, -5.45276545e-07, -8.39556859e-07],\n",
       "       [ 1.16668339e-06, -8.11608519e-07, -8.19417940e-07, ...,\n",
       "         5.84821949e-07,  6.12252893e-07,  1.03521205e-06]])"
      ]
     },
     "execution_count": 818,
     "metadata": {},
     "output_type": "execute_result"
    }
   ],
   "source": [
    "np.load('../Sanity_check/Gowalla-20/g_norm_b1e7.npy')-np.load('../Sanity_check/Gowalla-20/g_norm_b1e6.npy')"
   ]
  },
  {
   "cell_type": "code",
   "execution_count": 819,
   "id": "64a46798",
   "metadata": {},
   "outputs": [
    {
     "data": {
      "text/plain": [
       "array([[0.09859773, 0.09349759, 0.09718822, ..., 0.1085543 , 0.10306147,\n",
       "        0.10273388],\n",
       "       [0.0960624 , 0.09657076, 0.09889683, ..., 0.0986147 , 0.11366356,\n",
       "        0.09932651],\n",
       "       [0.09859676, 0.10085789, 0.10395961, ..., 0.09891592, 0.10103003,\n",
       "        0.09685511],\n",
       "       ...,\n",
       "       [0.1007132 , 0.09762935, 0.10344524, ..., 0.09941774, 0.10236451,\n",
       "        0.09503387],\n",
       "       [0.10023494, 0.09947133, 0.10283521, ..., 0.09725493, 0.09885718,\n",
       "        0.09615262],\n",
       "       [0.10298812, 0.09943731, 0.10017288, ..., 0.09836987, 0.09748333,\n",
       "        0.10197542]])"
      ]
     },
     "execution_count": 819,
     "metadata": {},
     "output_type": "execute_result"
    }
   ],
   "source": [
    "np.load('../Sanity_check/Gowalla-20/g_norm_b1e6.npy')"
   ]
  },
  {
   "cell_type": "code",
   "execution_count": 820,
   "id": "f44ae9d0",
   "metadata": {},
   "outputs": [
    {
     "data": {
      "text/plain": [
       "array([[-3.35928926e-05,  3.46877106e-05, -4.00125998e-05, ...,\n",
       "         5.89786792e-06, -2.50583420e-05,  2.97889272e-05],\n",
       "       [ 1.08149138e-04, -1.21926789e-04,  1.34945198e-04, ...,\n",
       "        -1.97985844e-05,  9.07002988e-05, -9.84286528e-05],\n",
       "       [ 5.02340045e-06, -5.74360530e-06,  6.41609582e-06, ...,\n",
       "        -8.85335725e-07,  3.65248467e-06, -4.32613097e-06],\n",
       "       ...,\n",
       "       [-1.06072547e-04,  1.13165193e-04, -1.31759261e-04, ...,\n",
       "         1.73342160e-05, -7.67856723e-05,  8.62017229e-05],\n",
       "       [ 1.15421186e-04, -1.25642798e-04,  1.43230368e-04, ...,\n",
       "        -1.84450740e-05,  8.10681020e-05, -9.50490565e-05],\n",
       "       [-1.43518359e-04,  1.50489870e-04, -1.68606053e-04, ...,\n",
       "         2.15631375e-05, -9.70352495e-05,  1.20546029e-04]])"
      ]
     },
     "execution_count": 820,
     "metadata": {},
     "output_type": "execute_result"
    }
   ],
   "source": [
    "np.load('../Sanity_check/Gowalla-20/g_norm_b1e1.npy')-np.load('../Sanity_check/Gowalla-20/g_norm_b1e7.npy')"
   ]
  },
  {
   "cell_type": "code",
   "execution_count": 926,
   "id": "6afaf795",
   "metadata": {},
   "outputs": [
    {
     "data": {
      "text/plain": [
       "array([[0.15571547, 0.23660635, 0.12186014, ..., 0.04411816, 0.09280525,\n",
       "        0.05083215],\n",
       "       [0.04309737, 0.01996479, 0.07218543, ..., 0.09793799, 0.12433278,\n",
       "        0.12548083],\n",
       "       [0.04006774, 0.01890171, 0.066376  , ..., 0.10865372, 0.11494819,\n",
       "        0.13636455],\n",
       "       ...,\n",
       "       [0.03146234, 0.01743547, 0.04600068, ..., 0.20056161, 0.07100479,\n",
       "        0.17290156],\n",
       "       [0.17293365, 0.32380057, 0.11737011, ..., 0.03035655, 0.07863793,\n",
       "        0.03598681],\n",
       "       [0.0482679 , 0.02176525, 0.08195513, ..., 0.08394675, 0.1381303 ,\n",
       "        0.10969676]])"
      ]
     },
     "execution_count": 926,
     "metadata": {},
     "output_type": "execute_result"
    }
   ],
   "source": [
    "np.load('Sanity_check/Gowalla-20/p_b1e1.npy')"
   ]
  },
  {
   "cell_type": "code",
   "execution_count": 822,
   "id": "147290ae",
   "metadata": {},
   "outputs": [
    {
     "name": "stdout",
     "output_type": "stream",
     "text": [
      "/home/antonios/repos/incremental_rec_base_code/notebooks\r\n"
     ]
    }
   ],
   "source": [
    "!pwd"
   ]
  },
  {
   "cell_type": "code",
   "execution_count": 823,
   "id": "f7179acc",
   "metadata": {},
   "outputs": [
    {
     "data": {
      "text/plain": [
       "array([[0.05866658, 0.1485033 , 0.05985476, ..., 0.10202258, 0.10416282,\n",
       "        0.06928705],\n",
       "       [0.02136533, 0.21675314, 0.02220266, ..., 0.07223   , 0.07622258,\n",
       "        0.02971347],\n",
       "       [0.03561408, 0.18721558, 0.03672888, ..., 0.08944429, 0.09290555,\n",
       "        0.04622817],\n",
       "       ...,\n",
       "       [0.19427097, 0.0159462 , 0.21123581, ..., 0.039222  , 0.03674038,\n",
       "        0.20587656],\n",
       "       [0.06996914, 0.13298027, 0.07101113, ..., 0.10369272, 0.10517056,\n",
       "        0.0790082 ],\n",
       "       [0.15269787, 0.06099377, 0.14805824, ..., 0.08040446, 0.0789887 ,\n",
       "        0.12074256]])"
      ]
     },
     "execution_count": 823,
     "metadata": {},
     "output_type": "execute_result"
    }
   ],
   "source": [
    "np.load('../Sanity_check/Gowalla-20/q_b1e1.npy')"
   ]
  },
  {
   "cell_type": "code",
   "execution_count": 824,
   "id": "c249b547",
   "metadata": {},
   "outputs": [],
   "source": [
    "def KL(P,Q, epsilon = 0.0000001):\n",
    "    \"\"\" Epsilon is used here to avoid conditional code for\n",
    "    checking that neither P nor Q is equal to 0. \"\"\"\n",
    "\n",
    "    # You may want to instead make copies to avoid changing the np arrays.\n",
    "    P = P+epsilon\n",
    "    Q = Q+epsilon\n",
    "\n",
    "    divergence = np.sum(P*np.log(P/Q))\n",
    "    return divergence"
   ]
  },
  {
   "cell_type": "code",
   "execution_count": 825,
   "id": "ee188290",
   "metadata": {},
   "outputs": [],
   "source": [
    "def softmax(x, t = 0.01):\n",
    "    \"\"\" Returns Softmax of vector x. \"\"\"\n",
    "    return np.round(np.exp(x/t)/np.sum(np.exp(x/t), axis = 0), 4)"
   ]
  },
  {
   "cell_type": "code",
   "execution_count": 977,
   "id": "9cf1e848",
   "metadata": {},
   "outputs": [],
   "source": [
    "def stable_softmax(x, t=0.01):\n",
    "    z = x - max(x)\n",
    "    numerator = np.exp(z/t)\n",
    "    denominator = np.sum(numerator)\n",
    "    softmax = numerator/denominator\n",
    "\n",
    "    return softmax"
   ]
  },
  {
   "cell_type": "code",
   "execution_count": 826,
   "id": "251744fd",
   "metadata": {},
   "outputs": [
    {
     "name": "stdout",
     "output_type": "stream",
     "text": [
      "0.07468760324913068\n"
     ]
    }
   ],
   "source": [
    "x = np.load('../Sanity_check/Gowalla-20/p_b1e1.npy')[0]\n",
    "y = np.ones(x.shape[0])\n",
    "print(KL(x, y/y.sum()))"
   ]
  },
  {
   "cell_type": "code",
   "execution_count": 827,
   "id": "df98dd0d",
   "metadata": {
    "scrolled": true
   },
   "outputs": [
    {
     "name": "stdout",
     "output_type": "stream",
     "text": [
      "[0.05445307 0.14862278 0.05640885 0.05592748 0.09458776 0.15377981\n",
      " 0.14963045 0.10732322 0.10965358 0.06961301]\n",
      "0.07468760324913068\n",
      "[0.000e+00 2.616e-01 0.000e+00 0.000e+00 1.200e-03 4.382e-01 2.894e-01\n",
      " 4.200e-03 5.300e-03 1.000e-04]\n",
      "1.1716504643861936\n"
     ]
    }
   ],
   "source": [
    "x = np.load('../Sanity_check/Gowalla-20/p_b1e1.npy')[0]\n",
    "print(x)\n",
    "y = np.ones(x.shape[0])\n",
    "print(KL(x, y/y.sum()))\n",
    "x = softmax(x)\n",
    "print(x)\n",
    "print(KL(x, y/y.sum()))"
   ]
  },
  {
   "cell_type": "code",
   "execution_count": 828,
   "id": "d972eb77",
   "metadata": {},
   "outputs": [
    {
     "name": "stdout",
     "output_type": "stream",
     "text": [
      "0.06978298955027595\n"
     ]
    }
   ],
   "source": [
    "x = np.load('../Sanity_check/Gowalla-20/q_b1e1.npy')[0]\n",
    "y = np.ones(x.shape[0])\n",
    "print(KL(x, y/y.sum()))"
   ]
  },
  {
   "cell_type": "code",
   "execution_count": 829,
   "id": "7170a91c",
   "metadata": {},
   "outputs": [],
   "source": [
    "q_s = np.load('../Sanity_check/Gowalla-20/q_b1e1.npy')\n",
    "p_s = np.load('../Sanity_check/Gowalla-20/p_b1e1.npy')"
   ]
  },
  {
   "cell_type": "code",
   "execution_count": 830,
   "id": "f12170b0",
   "metadata": {},
   "outputs": [
    {
     "name": "stdout",
     "output_type": "stream",
     "text": [
      "1045.9897098838085 1030.4293805886236\n"
     ]
    }
   ],
   "source": [
    "q_sum = 0\n",
    "p_sum = 0\n",
    "y = np.ones(q_s.shape[1])\n",
    "y = y/y.sum()\n",
    "for i in range(q_s.shape[0]):\n",
    "    q_sum += KL(q_s[i], y)\n",
    "    p_sum += KL(p_s[i], y)\n",
    "print(q_sum, p_sum)"
   ]
  },
  {
   "cell_type": "code",
   "execution_count": 831,
   "id": "39948304",
   "metadata": {},
   "outputs": [
    {
     "name": "stdout",
     "output_type": "stream",
     "text": [
      "(5569, 10)\n"
     ]
    }
   ],
   "source": [
    "print(q_s.shape)"
   ]
  },
  {
   "cell_type": "code",
   "execution_count": 832,
   "id": "c626097f",
   "metadata": {},
   "outputs": [
    {
     "data": {
      "text/plain": [
       "'/home/antonios/repos/incremental_rec_base_code/notebooks'"
      ]
     },
     "execution_count": 832,
     "metadata": {},
     "output_type": "execute_result"
    }
   ],
   "source": [
    "%pwd"
   ]
  },
  {
   "cell_type": "code",
   "execution_count": 833,
   "id": "69a5176c",
   "metadata": {},
   "outputs": [
    {
     "name": "stdout",
     "output_type": "stream",
     "text": [
      "/home/antonios/repos/incremental_rec_base_code\n"
     ]
    }
   ],
   "source": [
    "%cd .."
   ]
  },
  {
   "cell_type": "code",
   "execution_count": 834,
   "id": "b976b52b",
   "metadata": {},
   "outputs": [],
   "source": [
    "def load_pickle(path, name):\n",
    "    with open(path + name, 'rb') as f:\n",
    "        return pkl.load(f, encoding='latin1')\n",
    "    \n",
    "def pad_adj(adj, max_degree=128, n_neighbour=800):\n",
    "    adj = adj.copy()\n",
    "\n",
    "    if n_neighbour == 0:\n",
    "        n_neighbour = 1000\n",
    "    for nodeid in range(len(adj)):\n",
    "        neighbors = list(adj[nodeid])\n",
    "\n",
    "        if len(neighbors) == 0:\n",
    "            neighbors = np.random.choice(n_neighbour, max_degree, replace=True)\n",
    "        else:\n",
    "            if len(neighbors) > max_degree:\n",
    "                neighbors = np.random.choice(neighbors, max_degree, replace=False)\n",
    "            elif len(neighbors) < max_degree:\n",
    "                neighbors = np.random.choice(neighbors, max_degree, replace=True)\n",
    "        adj[nodeid] = neighbors\n",
    "\n",
    "    return np.stack([*adj.values()], axis=0)\n",
    "\n",
    "def convert_adj(adj, n_item):\n",
    "    adj_mat = np.zeros((len(adj), n_item))\n",
    "    for user, idx in enumerate(adj):\n",
    "        adj_mat[user][idx] = 1\n",
    "    return adj_mat\n",
    "    \n",
    "def union_lists_of_list(old_lists, new_lists):\n",
    "    '''\n",
    "    Merge two lists of which same index indicates same users/items\n",
    "    :param old_lists: old list of lists\n",
    "    :param new_lists:  new list of lists\n",
    "    :return: union list of lists\n",
    "    '''\n",
    "    union_lists = []\n",
    "    for u in range(len(new_lists)):\n",
    "        if u < len(old_lists):\n",
    "            union_lists.append(new_lists[u] + old_lists[u])\n",
    "        else:\n",
    "            union_lists.append(new_lists[u].copy())\n",
    "    return union_lists\n"
   ]
  },
  {
   "cell_type": "code",
   "execution_count": 835,
   "id": "3550ee5b",
   "metadata": {},
   "outputs": [
    {
     "data": {
      "text/plain": [
       "dict_keys(['train', 'n_user_train', 'n_item_train', 'val', 'n_user_val', 'n_item_val', 'test', 'n_user_test', 'n_item_test', 'acc_train', 'acc_train_plus_val', 'acc_train_plus_val_test', 'train_matrix', 'val_matrix', 'test_matrix'])"
      ]
     },
     "execution_count": 835,
     "metadata": {},
     "output_type": "execute_result"
    }
   ],
   "source": [
    "data_generator = Data(dataset='Gowalla-20', split=[0.6,3,0.1], \n",
    "                        shuffle=True, split_mode='abs', test_ratio=0,\n",
    "                        seed=22)\n",
    "data_blocks = data_generator.blocks\n",
    "data_blocks[2].keys()"
   ]
  },
  {
   "cell_type": "code",
   "execution_count": 1151,
   "id": "a8c060d5",
   "metadata": {},
   "outputs": [
    {
     "name": "stdout",
     "output_type": "stream",
     "text": [
      "[1, 2, 3, 4, 5, 0, 7, 8, 9, 10]\n",
      "[1.0, 1.0, 1.0, 1.0, 1.0, 1.0, 1.0, 1.0, 1.0, 1.0]\n",
      "[0.02040816326530612, 0.04081632653061224, 0.061224489795918366, 0.08163265306122448, 0.10204081632653061, 0.0, 0.14285714285714285, 0.16326530612244897, 0.1836734693877551, 0.20408163265306123]\n",
      "[0.1, 0.1, 0.1, 0.1, 0.1, 0.1, 0.1, 0.1, 0.1, 0.1]\n",
      "0.5367760770975056\n",
      "0.6473619094156549\n"
     ]
    }
   ],
   "source": [
    "a = list(np.arange(1, 11))\n",
    "b = list(np.ones(10))\n",
    "b[5] = 1.0\n",
    "a[5] = 0\n",
    "print(a)\n",
    "print(b)\n",
    "a = list(np.array(a)/(np.array(a).sum()))\n",
    "b = list(np.array(b)/(np.array(b).sum()))\n",
    "print(a)\n",
    "print(b)\n",
    "print(calc_jaccard(a,b))\n",
    "print(jensen(a,b))"
   ]
  },
  {
   "cell_type": "code",
   "execution_count": 1174,
   "id": "08bd8bf9",
   "metadata": {},
   "outputs": [],
   "source": [
    "def calc_l2(a, b):\n",
    "    err = np.sum((a-b)**2)\n",
    "    return err**0.5\n",
    "def calc_normed_l2(a,b):\n",
    "    a = softmax(a)\n",
    "    b = softmax(b)\n",
    "    return calc_l2(a,b)\n",
    "def calc_cosine_similarity(a,b):\n",
    "    err = np.sum(a*b)\n",
    "    denominator = ((np.sum(a**2))**0.5+(np.sum(b**2))**0.5)\n",
    "    if denominator == 0:\n",
    "        return 1\n",
    "    return err/denominator\n",
    "\n",
    "'''\n",
    "REVIEW\n",
    "you need to normalize \n",
    "d-calc_jaccard(a, b) is called wave hedges\n",
    "'''\n",
    "def calc_jaccard(a, b): #<--- RENAME\n",
    "    score = 0\n",
    "    for i in range(len(a)):\n",
    "        if max(a[i], b[i]) != 0:\n",
    "            score += min(a[i],b[i])/max(a[i], b[i])\n",
    "        else:\n",
    "            score += 1\n",
    "    return score/len(a)\n",
    "\n",
    "def KL(P,Q, epsilon = 0.0000001):\n",
    "    \"\"\" Epsilon is used here to avoid conditional code for\n",
    "    checking that neither P nor Q is equal to 0. \"\"\"\n",
    "\n",
    "    # You may want to instead make copies to avoid changing the np arrays.\n",
    "    P = P+epsilon\n",
    "    Q = Q+epsilon\n",
    "\n",
    "    divergence = np.sum(P*np.log(P/Q))\n",
    "    return divergence\n",
    "\n",
    "def jensen(a, b, eps=0.00001):\n",
    "    a, b = np.array(a) + 1, np.array(b) + 1\n",
    "    if a.sum() == 0 or b.sum() == 0:\n",
    "        return -1\n",
    "    a /= a.sum()\n",
    "    b /= b.sum()\n",
    "    return 0.5 * KL(a,b,eps) + 0.5 * KL(b,a,eps)    \n",
    "\n",
    "\n",
    "def kMeansRes(scaled_data, k, alpha_k=0.01):\n",
    "    '''\n",
    "    Parameters \n",
    "    ----------\n",
    "    scaled_data: matrix \n",
    "        scaled data. rows are samples and columns are features for clustering\n",
    "    k: int\n",
    "        current k for applying KMeans\n",
    "    alpha_k: float\n",
    "        manually tuned factor that gives penalty to the number of clusters\n",
    "    Returns \n",
    "    -------\n",
    "    scaled_inertia: float\n",
    "        scaled inertia value for current k           \n",
    "    '''\n",
    "    \n",
    "    inertia_o = np.square((scaled_data - scaled_data.mean(axis=0))).sum()\n",
    "    # fit k-means\n",
    "    kmeans = KMeans(n_clusters=k, random_state=0).fit(scaled_data)\n",
    "    scaled_inertia = kmeans.inertia_ / inertia_o + alpha_k * k\n",
    "    return scaled_inertia\n",
    "\n",
    "def chooseBestKforKMeans(scaled_data, k_range):\n",
    "    print(\"Choose_K\")\n",
    "    ans = []\n",
    "    for k in k_range:\n",
    "        scaled_inertia = kMeansRes(scaled_data, k)\n",
    "        ans.append((k, scaled_inertia))\n",
    "    results = pd.DataFrame(ans, columns = ['k','Scaled Inertia']).set_index('k')\n",
    "    best_k = results.idxmin()[0]\n",
    "    return best_k, results\n",
    "\n",
    "def get_item_cluster(item_embed, best_k=None):\n",
    "    if not best_k:\n",
    "        best_k, results = chooseBestKforKMeans(item_embed, np.array([2,4,6,8,10,12,14]))\n",
    "        print(best_k)\n",
    "    kmeans = KMeans(n_clusters=best_k, random_state=0).fit(item_embed)\n",
    "    y_kmeans = kmeans.labels_\n",
    "    return best_k, y_kmeans\n",
    "    \n",
    "def convert_u_adj(u_adj, old_adj, next_adj, next_next_adj, n_cluster, y_kmeans, saved_file=None):\n",
    "    if saved_file:\n",
    "        new_u_adj = np.load(f\"{saved_file}/new_u_adj.npy\")\n",
    "        new_old_adj = np.load(f\"{saved_file}/new_old_adj.npy\")\n",
    "        new_next_adj = np.load(f\"{saved_file}/new_next_adj.npy\")\n",
    "    else:\n",
    "        new_u_adj = np.zeros((u_adj.shape[0], n_cluster))\n",
    "        new_old_adj = np.zeros((old_adj.shape[0], n_cluster))\n",
    "        new_next_adj = np.zeros((next_adj.shape[0], n_cluster))\n",
    "        new_next_next_adj = np.zeros((next_adj.shape[0], n_cluster))\n",
    "        for i in tqdm(range(u_adj.shape[0])):\n",
    "            for j in range(u_adj.shape[1]):\n",
    "                new_u_adj[i][y_kmeans[j]] += u_adj[i][j]\n",
    "                new_old_adj[i][y_kmeans[j]] += old_adj[i][j]\n",
    "                new_next_adj[i][y_kmeans[j]] += next_adj[i][j]\n",
    "                new_next_next_adj[i][y_kmeans[j]] += next_next_adj[i][j]\n",
    "    return new_u_adj, new_old_adj, new_next_adj, new_next_next_adj # current block, previous block, next block\n",
    "\n"
   ]
  },
  {
   "cell_type": "code",
   "execution_count": 1098,
   "id": "3165cdf2",
   "metadata": {},
   "outputs": [],
   "source": [
    "for i in range(1,4):\n",
    "\n",
    "    train_matrix = data_blocks[i]['train']\n",
    "\n",
    "    n_item = data_blocks[i]['n_item_train']\n",
    "    n_user = data_blocks[i]['n_user_train']\n",
    "    u_adj_list = convert_adj(train_matrix, n_item)\n",
    "    \n",
    "\n",
    "    old_train_matrix = data_blocks[i-1]['train']\n",
    "    old_n_item = data_blocks[i-1]['n_item_train']\n",
    "    old_n_user = data_blocks[i-1]['n_user_train']\n",
    "    \n",
    "    old_u_adj_list = convert_adj(old_train_matrix, old_n_item)\n",
    "    np.save(f\"Sanity_check/Gowalla-20/user_item_adj_{i}.npy\", u_adj_list)\n",
    "    np.save(f\"Sanity_check/Gowalla-20/old_user_item_adj_{i}.npy\", old_u_adj_list)\n",
    "    if i!= 3:\n",
    "        next_train_matrix = data_blocks[i+1]['train']\n",
    "        next_n_item = data_blocks[i+1]['n_item_train']\n",
    "        next_n_user = data_blocks[i+1]['n_user_train']\n",
    "        next_u_adj_list = convert_adj(next_train_matrix, next_n_item)\n",
    "        np.save(f\"Sanity_check/Gowalla-20/next_user_item_adj_{i}.npy\", next_u_adj_list)\n",
    "\n",
    "    \n",
    "    if i == 3:\n",
    "        n_test_item = data_blocks[i]['n_item_test']\n",
    "        u_adj_list_test = data_blocks[i]['test']\n",
    "        n_val_item = data_blocks[i]['n_item_val']\n",
    "        u_adj_list_val = data_blocks[i]['val']\n",
    "        next_u_adj_matrix = union_lists_of_list(u_adj_list_test, u_adj_list_val)\n",
    "        next_u_adj_list = convert_adj(next_u_adj_matrix, max(n_test_item, n_val_item))\n",
    "        \n",
    "        np.save(f\"Sanity_check/Gowalla-20/next_user_item_adj_{i}.npy\", next_u_adj_list)\n",
    "        "
   ]
  },
  {
   "cell_type": "code",
   "execution_count": 839,
   "id": "3e181b96",
   "metadata": {},
   "outputs": [],
   "source": [
    "item_embeddings = np.load('Sanity_check/Gowalla-20/i_rep_b0e30.npy')\n",
    "best_k, y_kmeans = get_item_cluster(item_embeddings, 10)"
   ]
  },
  {
   "cell_type": "code",
   "execution_count": 840,
   "id": "16900b2c",
   "metadata": {},
   "outputs": [],
   "source": [
    "# print(old_n_item, n_item, next_n_item)\n",
    "# print(old_n_user, n_user, next_n_user)"
   ]
  },
  {
   "cell_type": "code",
   "execution_count": 938,
   "id": "eee47a6b",
   "metadata": {},
   "outputs": [],
   "source": [
    "item_clusters_1_3 = np.load('Sanity_check/Gowalla-20/p_b1e3.npy')"
   ]
  },
  {
   "cell_type": "code",
   "execution_count": 939,
   "id": "1a1dd0c6",
   "metadata": {},
   "outputs": [],
   "source": [
    "item_clusters_1_9 = np.load('Sanity_check/Gowalla-20/p_b1e9.npy')"
   ]
  },
  {
   "cell_type": "code",
   "execution_count": 945,
   "id": "34d05cb1",
   "metadata": {},
   "outputs": [
    {
     "name": "stdout",
     "output_type": "stream",
     "text": [
      "0.06225911227461823\n",
      "0.06309791067639753\n",
      "0.05065692437617342\n",
      "0.04290868773358323\n",
      "0.03010772420289238\n",
      "0.021291884319954324\n",
      "0.01607473041493902\n",
      "0.012308341018622522\n"
     ]
    }
   ],
   "source": [
    "for i in range(1,9):\n",
    "    print(((np.load(f'Sanity_check/Gowalla-20/p_b1e{i}.npy') - item_clusters_1_9)**2).sum()/item_clusters_1_9.shape[0])"
   ]
  },
  {
   "cell_type": "code",
   "execution_count": 982,
   "id": "f63a7ef6",
   "metadata": {},
   "outputs": [
    {
     "data": {
      "text/plain": [
       "array([[7.54082900e-09, 1.67405732e-02, 9.57044878e-01, ...,\n",
       "        1.54591804e-09, 1.81220832e-02, 1.30636379e-09],\n",
       "       [1.44442948e-08, 1.66982420e-01, 5.67841910e-01, ...,\n",
       "        3.63401803e-09, 1.79296266e-01, 3.13261243e-09],\n",
       "       [9.01304814e-05, 4.92315780e-08, 9.60889912e-08, ...,\n",
       "        1.02444653e-01, 4.94418080e-08, 3.59284191e-01],\n",
       "       ...,\n",
       "       [8.12464214e-05, 3.45999266e-08, 6.52208700e-08, ...,\n",
       "        1.10331036e-01, 3.47366536e-08, 3.45037499e-01],\n",
       "       [9.99179653e-01, 5.42763670e-08, 1.23865260e-06, ...,\n",
       "        1.88977873e-04, 5.51755581e-08, 6.98672852e-05],\n",
       "       [4.61216008e-09, 3.49850302e-03, 9.91041645e-01, ...,\n",
       "        8.16708973e-10, 3.79670744e-03, 6.80452761e-10]])"
      ]
     },
     "execution_count": 982,
     "metadata": {},
     "output_type": "execute_result"
    }
   ],
   "source": [
    "np.apply_along_axis(stable_softmax, 1, item_clusters_1_9, t = 0.01)"
   ]
  },
  {
   "cell_type": "code",
   "execution_count": 983,
   "id": "d3d1e2a5",
   "metadata": {},
   "outputs": [
    {
     "data": {
      "text/plain": [
       "array([[2.45737776e-10, 1.60722415e-05, 3.14348914e-04, ...,\n",
       "        1.23027942e-09, 1.85792870e-05, 4.81734962e-10],\n",
       "       [1.50692022e-10, 5.13237005e-05, 5.97101536e-05, ...,\n",
       "        9.25860288e-10, 5.88482094e-05, 3.69821183e-10],\n",
       "       [2.36016721e-08, 3.79811519e-13, 2.53613020e-13, ...,\n",
       "        6.55126007e-04, 4.07317920e-13, 1.06463414e-03],\n",
       "       ...,\n",
       "       [2.44635489e-08, 3.06933075e-13, 1.97937753e-13, ...,\n",
       "        8.11292341e-04, 3.29057117e-13, 1.17563556e-03],\n",
       "       [2.70429882e-03, 4.32787952e-12, 3.37899420e-11, ...,\n",
       "        1.24906925e-05, 4.69813968e-12, 2.13981470e-06],\n",
       "       [3.47535285e-10, 7.76658465e-06, 7.52685009e-04, ...,\n",
       "        1.50288698e-09, 9.00056470e-06, 5.80208002e-10]])"
      ]
     },
     "execution_count": 983,
     "metadata": {},
     "output_type": "execute_result"
    }
   ],
   "source": [
    "np.apply_along_axis(stable_softmax, 0, item_clusters_1_9, t = 0.01)"
   ]
  },
  {
   "cell_type": "code",
   "execution_count": 984,
   "id": "490be703",
   "metadata": {},
   "outputs": [
    {
     "data": {
      "text/plain": [
       "array([[0.04147518, 0.20410617, 0.21634572, 0.02669102, 0.02656518,\n",
       "        0.19745673, 0.02867588, 0.02767557, 0.20481768, 0.02619086],\n",
       "       [0.09201353, 0.01688874, 0.02357614, 0.17055654, 0.1716413 ,\n",
       "        0.01650519, 0.15459586, 0.16237172, 0.01693135, 0.17491963],\n",
       "       [0.0963084 , 0.01371419, 0.02002818, 0.17134615, 0.17204888,\n",
       "        0.01336887, 0.15967139, 0.16566294, 0.01375267, 0.17409834],\n",
       "       [0.10709351, 0.04159114, 0.05106888, 0.14510039, 0.14554517,\n",
       "        0.04094826, 0.13840302, 0.14170492, 0.04166178, 0.14688293]])"
      ]
     },
     "execution_count": 984,
     "metadata": {},
     "output_type": "execute_result"
    }
   ],
   "source": [
    "item_clusters_1_9[1:5]"
   ]
  },
  {
   "cell_type": "code",
   "execution_count": 988,
   "id": "fd1312a8",
   "metadata": {},
   "outputs": [
    {
     "name": "stdout",
     "output_type": "stream",
     "text": [
      "(5569, 10)\n"
     ]
    }
   ],
   "source": [
    "print(item_clusters_1_9.shape)"
   ]
  },
  {
   "cell_type": "code",
   "execution_count": 1004,
   "id": "84420948",
   "metadata": {},
   "outputs": [],
   "source": [
    "def sample_similar_items_from_clusters(item_clusters, item_indices, num_samples):\n",
    "    '''\n",
    "    Implements edge augmentation\n",
    "    :param item_clusters: G_{i,m} matrix of item cluster memberships\n",
    "    :param item_indices: list of items in interactions that we wish to augment via artificial sampling of similar items\n",
    "    :param num_samples: number of augmented neighbor samples per item\n",
    "    '''\n",
    "    sample_probs = []\n",
    "    # p(m|i')\n",
    "    p_mi = []\n",
    "    for item in item_indices:\n",
    "        p_mi.append(item_clusters[item])\n",
    "    # p(i|m)\n",
    "    p_im = np.apply_along_axis(stable_softmax, 0, item_clusters, t = 0.01)\n",
    "    # p(u,i) for all items in item_indices list\n",
    "    probs = []\n",
    "    for index, item in enumerate(item_indices):\n",
    "        # p(u, i)\n",
    "        p_ui = []\n",
    "        for row in p_im:\n",
    "            p_ui.append(np.dot(p_mi[index], row))\n",
    "        probs.append(p_ui)\n",
    "    return probs"
   ]
  },
  {
   "cell_type": "code",
   "execution_count": 1005,
   "id": "2f5a2851",
   "metadata": {},
   "outputs": [],
   "source": [
    "probs_list = sample_similar_items_from_clusters(item_clusters_1_9, [0,1,2,3,4], 5)"
   ]
  },
  {
   "cell_type": "code",
   "execution_count": 1050,
   "id": "8bf2ffd5",
   "metadata": {},
   "outputs": [
    {
     "data": {
      "text/plain": [
       "Text(0, 0.5, 'Prob. Mass')"
      ]
     },
     "execution_count": 1050,
     "metadata": {},
     "output_type": "execute_result"
    },
    {
     "data": {
      "image/png": "[encoded data removed]",
      "text/plain": [
       "<Figure size 432x288 with 1 Axes>"
      ]
     },
     "metadata": {},
     "output_type": "display_data"
    }
   ],
   "source": [
    "plt.plot(probs_list[0])\n",
    "plt.title('Distribution of Augmented Item Interaction')\n",
    "plt.xlabel('Gowalla Item Index')\n",
    "plt.ylabel('Prob. Mass')"
   ]
  },
  {
   "cell_type": "code",
   "execution_count": 1051,
   "id": "24b76ea1",
   "metadata": {},
   "outputs": [
    {
     "data": {
      "text/plain": [
       "Text(0, 0.5, 'Prob. Mass')"
      ]
     },
     "execution_count": 1051,
     "metadata": {},
     "output_type": "execute_result"
    },
    {
     "data": {
      "image/png": "[encoded data removed]",
      "text/plain": [
       "<Figure size 432x288 with 1 Axes>"
      ]
     },
     "metadata": {},
     "output_type": "display_data"
    }
   ],
   "source": [
    "plt.plot(stable_softmax(np.array(probs_list[0]), t=0.0001))\n",
    "plt.title('Distribution of Augmented Item Interaction')\n",
    "plt.xlabel('Gowalla Item Index')\n",
    "plt.ylabel('Prob. Mass')"
   ]
  },
  {
   "cell_type": "code",
   "execution_count": 1016,
   "id": "601f20ac",
   "metadata": {},
   "outputs": [
    {
     "data": {
      "text/plain": [
       "0.0001795654516071108"
      ]
     },
     "execution_count": 1016,
     "metadata": {},
     "output_type": "execute_result"
    }
   ],
   "source": [
    "np.mean(probs_list[0])"
   ]
  },
  {
   "cell_type": "code",
   "execution_count": 1017,
   "id": "9b82e484",
   "metadata": {},
   "outputs": [
    {
     "data": {
      "text/plain": [
       "0.00030969520556601427"
      ]
     },
     "execution_count": 1017,
     "metadata": {},
     "output_type": "execute_result"
    }
   ],
   "source": [
    "np.std(probs_list[0])"
   ]
  },
  {
   "cell_type": "code",
   "execution_count": 1035,
   "id": "c3d1c3db",
   "metadata": {},
   "outputs": [
    {
     "data": {
      "text/plain": [
       "0.9564967964134322"
      ]
     },
     "execution_count": 1035,
     "metadata": {},
     "output_type": "execute_result"
    }
   ],
   "source": [
    "y = np.ones(len(probs_list[0]))\n",
    "y = y/y.sum()\n",
    "kl = KL(np.array(probs_list[0]), y)\n",
    "kl"
   ]
  },
  {
   "cell_type": "code",
   "execution_count": 1044,
   "id": "d18e5883",
   "metadata": {},
   "outputs": [
    {
     "data": {
      "text/plain": [
       "3.3403030226629893"
      ]
     },
     "execution_count": 1044,
     "metadata": {},
     "output_type": "execute_result"
    }
   ],
   "source": [
    "y = np.ones(len(probs_list[0]))\n",
    "y = y/y.sum()\n",
    "kl = KL(np.array(stable_softmax(np.array(probs_list[0]), t=0.0001)), y)\n",
    "kl"
   ]
  },
  {
   "cell_type": "code",
   "execution_count": 1023,
   "id": "52805003",
   "metadata": {},
   "outputs": [
    {
     "name": "stdout",
     "output_type": "stream",
     "text": [
      "0.001381172775510926\n",
      "6.583673049137088e-08\n"
     ]
    }
   ],
   "source": [
    "print(max(probs_list[0]))\n",
    "print(min(probs_list[0]))"
   ]
  },
  {
   "cell_type": "code",
   "execution_count": 1047,
   "id": "35a3b29b",
   "metadata": {},
   "outputs": [
    {
     "name": "stdout",
     "output_type": "stream",
     "text": [
      "0.008994490199037386\n",
      "9.034525095603125e-09\n"
     ]
    }
   ],
   "source": [
    "print(max(stable_softmax(np.array(probs_list[0]), t=0.0001)))\n",
    "print(min(stable_softmax(np.array(probs_list[0]), t=0.0001)))"
   ]
  },
  {
   "cell_type": "code",
   "execution_count": 1007,
   "id": "6156b054",
   "metadata": {},
   "outputs": [
    {
     "data": {
      "text/plain": [
       "array([2.45737776e-10, 1.60722415e-05, 3.14348914e-04, 6.84106297e-10,\n",
       "       6.28228931e-10, 4.05961950e-06, 1.88766078e-09, 1.23027942e-09,\n",
       "       1.85792870e-05, 4.81734962e-10])"
      ]
     },
     "execution_count": 1007,
     "metadata": {},
     "output_type": "execute_result"
    }
   ],
   "source": [
    "np.apply_along_axis(stable_softmax, 0, item_clusters_1_9, t = 0.01)[0]"
   ]
  },
  {
   "cell_type": "code",
   "execution_count": 870,
   "id": "e995f7e6",
   "metadata": {},
   "outputs": [],
   "source": [
    "item_embeddings = np.load('Sanity_check/Gowalla-20/i_rep_b0e10.npy')\n",
    "\n",
    "def get_dynamic_users(prev_block, cur_block, next_block, next_next_block, item_embeddings, block=1, k_items=10, dataset=\"Gowalla-20\"):\n",
    "    k_items, y_kmeans = get_item_cluster(item_embeddings, k_items)\n",
    "    new_u_adj, new_old_adj, new_next_adj, new_next_next_adj = convert_u_adj(cur_block, prev_block, next_block, next_next_block, k_items, y_kmeans[:old_n_item], saved_file=None)\n",
    "#     new_u_adj, new_old_adj, new_next_adj, new_next_next_adj = convert_u_adj(u_adj_list, old_u_adj_list, next_u_adj_list, next_next_u_adj_list, best_k, y_kmeans[:old_n_item], saved_file=None)\n",
    "    np.save(\"Sanity_check/{}/ui_cluster_block_{}.npy\".format(dataset, block - 1), new_u_adj)\n",
    "    np.save(\"Sanity_check/{}/ui_cluster_block_{}.npy\".format(dataset, block), new_old_adj)\n",
    "    np.save(\"Sanity_check/{}/ui_cluster_block_{}.npy\".format(dataset, block + 1), new_next_adj)\n",
    "    np.save(\"Sanity_check/{}/ui_cluster_block_{}.npy\".format(dataset, block + 2), new_next_next_adj)"
   ]
  },
  {
   "cell_type": "code",
   "execution_count": 871,
   "id": "4bb45a0b",
   "metadata": {},
   "outputs": [
    {
     "data": {
      "application/vnd.jupyter.widget-view+json": {
       "model_id": "87b6d3cccf1544239ce99799a466cf15",
       "version_major": 2,
       "version_minor": 0
      },
      "text/plain": [
       "  0%|          | 0/5098 [00:00<?, ?it/s]"
      ]
     },
     "metadata": {},
     "output_type": "display_data"
    }
   ],
   "source": [
    "old_u_adj_list = np.load(\"Sanity_check/Gowalla-20/old_user_item_adj_1.npy\")\n",
    "old_n_user, old_n_item = old_u_adj_list.shape\n",
    "u_adj_list = np.load(\"Sanity_check/Gowalla-20/user_item_adj_1.npy\")[:old_n_user, :old_n_item]\n",
    "next_u_adj_list = np.load(\"Sanity_check/Gowalla-20/next_user_item_adj_1.npy\")[:old_n_user, :old_n_item]\n",
    "next_next_u_adj_list = np.load(\"Sanity_check/Gowalla-20/next_user_item_adj_2.npy\")[:old_n_user, :old_n_item]\n",
    "\n",
    "get_dynamic_users(u_adj_list, old_u_adj_list, next_u_adj_list, next_next_u_adj_list, item_embeddings)"
   ]
  },
  {
   "cell_type": "code",
   "execution_count": 872,
   "id": "97bc7531",
   "metadata": {},
   "outputs": [],
   "source": [
    "new_old_adj = np.load(\"Sanity_check/{}/ui_cluster_block_{}.npy\".format(\"Gowalla-20\", 0))\n",
    "new_u_adj = np.load(\"Sanity_check/{}/ui_cluster_block_{}.npy\".format(\"Gowalla-20\", 1))\n",
    "new_next_adj = np.load(\"Sanity_check/{}/ui_cluster_block_{}.npy\".format(\"Gowalla-20\", 2))\n",
    "new_next_next_adj = np.load(\"Sanity_check/{}/ui_cluster_block_{}.npy\".format(\"Gowalla-20\", 3))\n",
    "\n",
    "adj_list = [new_u_adj, new_old_adj, new_next_adj, new_next_next_adj]"
   ]
  },
  {
   "cell_type": "code",
   "execution_count": 873,
   "id": "8c2af17b",
   "metadata": {},
   "outputs": [
    {
     "data": {
      "text/plain": [
       "(5098, 10)"
      ]
     },
     "execution_count": 873,
     "metadata": {},
     "output_type": "execute_result"
    }
   ],
   "source": [
    "adj_list[0].shape"
   ]
  },
  {
   "cell_type": "code",
   "execution_count": 874,
   "id": "7a144e9a",
   "metadata": {},
   "outputs": [],
   "source": [
    "def get_jaccard_lists(adj_list):\n",
    "    cumulative_adj_list = list(np.cumsum(adj_list, axis=0))\n",
    "#     print(cumulative_adj_list[2].shape)\n",
    "    jaccard_lists_all = []\n",
    "    for i in range(3):\n",
    "        cumulative_jaccard_list = []\n",
    "        for j in range(adj_list[0].shape[0]):\n",
    "            cumulative_jaccard_list.append(calc_jaccard(cumulative_adj_list[i][j], adj_list[i+1][j]))\n",
    "        jaccard_lists_all.append(cumulative_jaccard_list)\n",
    "    return jaccard_lists_all\n",
    "    # Jaccard indices between 0-1, 0,1-2, 0,1,2-3\n",
    "#     for i in range(new_old_adj.shape[0]):\n",
    "#         cumulative_jaccard_list.append(calc_jaccard(new_old_adj[i], new_old_adj[i] + new_u_adj[i]))"
   ]
  },
  {
   "cell_type": "code",
   "execution_count": 1175,
   "id": "99074139",
   "metadata": {},
   "outputs": [],
   "source": [
    "def get_jensen_lists(adj_list):\n",
    "    cumulative_adj_list = list(np.cumsum(adj_list, axis=0))\n",
    "    jensen_lists_all = []\n",
    "    for i in range(3):\n",
    "        cumulative_jensen_list = []\n",
    "        for j in range(adj_list[0].shape[0]):\n",
    "            cumulative_jensen_list.append(jensen(cumulative_adj_list[i][j], adj_list[i+1][j]))\n",
    "        mean = sum(cumulative_jensen_list)/ len(cumulative_jensen_list)\n",
    "        for k in range(len(cumulative_jensen_list)):\n",
    "            if cumulative_jensen_list[k] < 0:\n",
    "                cumulative_jensen_list[k] = mean\n",
    "        jensen_lists_all.append(cumulative_jensen_list)\n",
    "    return jensen_lists_all"
   ]
  },
  {
   "cell_type": "code",
   "execution_count": 1341,
   "id": "e02dc16a",
   "metadata": {},
   "outputs": [
    {
     "data": {
      "text/plain": [
       "Power_divergenceResult(statistic=array([79.625]), pvalue=array([1.00531355e-15]))"
      ]
     },
     "execution_count": 1341,
     "metadata": {},
     "output_type": "execute_result"
    }
   ],
   "source": [
    "from  scipy.stats import chisquare\n",
    "chisquare([16, 18, 16, 14, 12, 33],\n",
    "          f_exp=[[16, 16, 16, 16, 16, 8]],\n",
    "          axis=1)"
   ]
  },
  {
   "cell_type": "code",
   "execution_count": 1459,
   "id": "e9846c2d",
   "metadata": {},
   "outputs": [],
   "source": [
    "def get_chi_square_lists(adj_list, temp = 0):\n",
    "    cumulative_adj_list = list(np.cumsum(adj_list, axis=0))\n",
    "    lists_all = []\n",
    "    p_values_all = []\n",
    "    for i in range(3):\n",
    "        cumulative_KS_list = []\n",
    "        p_values = []\n",
    "        for j in range(adj_list[0].shape[0]):\n",
    "#             (ks_2samp(adj_list[0][555] + 1, adj_list[1][555] + 1))\n",
    "            exp = np.array(cumulative_adj_list[i][j] + temp)\n",
    "            obs = np.array(cumulative_adj_list[i+1][j] + temp)\n",
    "            assert exp.sum() <= obs.sum(), (\"{}, {}\".format(cumulative_adj_list[i][j], cumulative_adj_list[i+1][j]))\n",
    "            cumulative_KS_list.append(chisquare(obs/obs.sum()*exp.sum(), exp)[0])\n",
    "            if(j % 5000 == 0):\n",
    "                print('historical', exp)\n",
    "                print('new', obs/obs.sum()*exp.sum())\n",
    "                print('p', chisquare(obs/obs.sum()*exp.sum(), exp)[1])\n",
    "                print('\\n')\n",
    "            p_values.append(chisquare(obs/obs.sum()*exp.sum(), exp)[1])\n",
    "        lists_all.append(cumulative_KS_list)\n",
    "        p_values_all.append(p_values)\n",
    "    return lists_all, p_values_all"
   ]
  },
  {
   "cell_type": "code",
   "execution_count": 1496,
   "id": "4b1b6a97",
   "metadata": {},
   "outputs": [
    {
     "name": "stdout",
     "output_type": "stream",
     "text": [
      "historical [0.1 0.1 0.1 0.1 0.1 0.1 0.1 0.1 0.1 0.1]\n",
      "new [0.00769231 0.08461538 0.39230769 0.00769231 0.31538462 0.00769231\n",
      " 0.00769231 0.00769231 0.16153846 0.00769231]\n",
      "p 0.9933627773398023\n",
      "\n",
      "\n",
      "historical [0.1 3.1 0.1 0.1 0.1 0.1 0.1 6.1 0.1 0.1]\n",
      "new [0.0625 3.8125 0.0625 0.0625 0.0625 0.0625 0.0625 5.6875 0.0625 0.0625]\n",
      "p 0.9999964802590611\n",
      "\n",
      "\n",
      "historical [0.1 1.1 5.1 0.1 4.1 0.1 0.1 0.1 2.1 0.1]\n",
      "new [0.09285714 1.02142857 4.73571429 0.09285714 3.80714286 0.09285714\n",
      " 0.09285714 0.09285714 2.87857143 0.09285714]\n",
      "p 0.9999939533095327\n",
      "\n",
      "\n",
      "historical [0.1 6.1 0.1 0.1 0.1 0.1 0.1 9.1 0.1 0.1]\n",
      "new [0.07619048 5.40952381 0.07619048 0.07619048 0.07619048 0.07619048\n",
      " 0.07619048 9.98095238 0.07619048 0.07619048]\n",
      "p 0.9999993267500302\n",
      "\n",
      "\n",
      "historical [0.1 1.1 5.1 0.1 4.1 0.1 0.1 0.1 3.1 0.1]\n",
      "new [0.05384615 0.59230769 2.74615385 0.05384615 2.20769231 0.05384615\n",
      " 5.97692308 0.05384615 2.20769231 0.05384615]\n",
      "p 1.7007761004666313e-69\n",
      "\n",
      "\n",
      "historical [ 0.1  7.1  0.1  0.1  0.1  0.1  0.1 13.1  0.1  0.1]\n",
      "new [ 0.084  8.484  0.084  0.084  0.084  0.084  0.084 11.844  0.084  0.084]\n",
      "p 0.9999869819509313\n",
      "\n",
      "\n"
     ]
    }
   ],
   "source": [
    "ks, p = get_chi_square_lists(adj_list, temp=0.1)"
   ]
  },
  {
   "cell_type": "code",
   "execution_count": 1497,
   "id": "9f809078",
   "metadata": {},
   "outputs": [],
   "source": [
    "idx = np.argsort(np.array(p[0]))"
   ]
  },
  {
   "cell_type": "code",
   "execution_count": 1498,
   "id": "31330438",
   "metadata": {},
   "outputs": [
    {
     "data": {
      "text/plain": [
       "array([3551, 4190, 4260, 3629, 1786, 3671,  697, 1102, 4820,  116, 2028,\n",
       "       3911, 2102,   45, 1820, 5042, 2265, 3912, 3482, 4070, 4547, 4487,\n",
       "        855, 1970, 2461])"
      ]
     },
     "execution_count": 1498,
     "metadata": {},
     "output_type": "execute_result"
    }
   ],
   "source": [
    "idx[:25]"
   ]
  },
  {
   "cell_type": "code",
   "execution_count": 1507,
   "id": "85734a52",
   "metadata": {},
   "outputs": [
    {
     "name": "stdout",
     "output_type": "stream",
     "text": [
      "next\n",
      "3551\n",
      "0.0\n",
      "[ 0.  2.  0.  0.  6.  0.  0.  1.  2. 61.]\n",
      "[ 0.  7. 29.  4. 13. 15.  0.  5. 49.  4.]\n",
      "next\n",
      "4190\n",
      "9.071828859568878e-268\n",
      "[ 0. 23.  0.  3.  3.  0.  0.  9. 17. 14.]\n",
      "[ 0. 57. 43.  2.  5.  0.  0. 54. 35.  1.]\n",
      "next\n",
      "4260\n",
      "2.5548949048983928e-253\n",
      "[ 0.  0. 15.  0.  0.  0.  0.  0. 16.  9.]\n",
      "[ 0.  0.  0. 15.  0.  0.  0.  0.  0.  0.]\n",
      "next\n",
      "3629\n",
      "3.4042858359145307e-227\n",
      "[ 0. 13.  0.  0.  4.  0.  0. 10.  0.  0.]\n",
      "[ 0. 42.  0. 63.  2.  0.  0. 24. 13.  0.]\n",
      "next\n",
      "1786\n",
      "8.232857404674387e-226\n",
      "[ 0.  0. 21.  0.  0.  0.  0.  0.  7.  0.]\n",
      "[ 0.  0. 88. 82.  4.  0.  0.  0. 25.  0.]\n"
     ]
    }
   ],
   "source": [
    "for num in idx[0:5]:\n",
    "    print('next')\n",
    "    print(num)\n",
    "    print(p[0][num])\n",
    "    print(adj_list[0][num])\n",
    "    print(adj_list[1][num])"
   ]
  },
  {
   "cell_type": "code",
   "execution_count": 1509,
   "id": "67cc55b8",
   "metadata": {},
   "outputs": [
    {
     "name": "stdout",
     "output_type": "stream",
     "text": [
      "next\n",
      "3546\n",
      "3.56427545995919e-07\n",
      "[0. 2. 0. 1. 2. 0. 0. 0. 1. 0.]\n",
      "[0. 2. 0. 0. 0. 0. 0. 2. 1. 5.]\n",
      "next\n",
      "953\n",
      "4.664656732363231e-07\n",
      "[1. 0. 1. 0. 0. 0. 0. 0. 0. 2.]\n",
      "[ 0.  3.  4. 11.  0.  0.  0.  0. 12.  2.]\n",
      "next\n",
      "2960\n",
      "4.735752794791461e-07\n",
      "[0. 3. 0. 0. 0. 0. 0. 2. 0. 0.]\n",
      "[ 0.  6.  0. 10.  0.  0.  0.  3.  4.  0.]\n",
      "next\n",
      "2177\n",
      "4.858460157520824e-07\n",
      "[0. 0. 0. 0. 0. 0. 0. 4. 0. 0.]\n",
      "[ 0. 10.  0.  0.  0.  0.  0.  6.  2.  0.]\n",
      "next\n",
      "2501\n",
      "5.282739815272885e-07\n",
      "[ 0.  0. 11.  0.  0.  0.  0.  0.  0.  0.]\n",
      "[ 0.  9. 39.  1.  0.  0.  0.  1. 10.  0.]\n"
     ]
    }
   ],
   "source": [
    "for num in idx[250:255]:\n",
    "    print('next')\n",
    "    print(num)\n",
    "    print(p[0][num])\n",
    "    print(adj_list[0][num])\n",
    "    print(adj_list[1][num])"
   ]
  },
  {
   "cell_type": "code",
   "execution_count": 1512,
   "id": "65e1307b",
   "metadata": {},
   "outputs": [
    {
     "name": "stdout",
     "output_type": "stream",
     "text": [
      "0.3597675378911965\n",
      "[0. 0. 0. 0. 5. 0. 0. 0. 0. 0.]\n",
      "[ 0.  0.  0.  8. 36.  0.  0.  0.  7.  2.]\n"
     ]
    }
   ],
   "source": [
    "print(p[0][8])\n",
    "print(adj_list[0][8])\n",
    "print(adj_list[1][8])"
   ]
  },
  {
   "cell_type": "code",
   "execution_count": 1500,
   "id": "b84bd01b",
   "metadata": {},
   "outputs": [
    {
     "data": {
      "text/plain": [
       "708"
      ]
     },
     "execution_count": 1500,
     "metadata": {},
     "output_type": "execute_result"
    }
   ],
   "source": [
    "(np.array(p[0]) < 0.05).sum()"
   ]
  },
  {
   "cell_type": "code",
   "execution_count": 1501,
   "id": "942b7a4e",
   "metadata": {},
   "outputs": [
    {
     "data": {
      "text/plain": [
       "204"
      ]
     },
     "execution_count": 1501,
     "metadata": {},
     "output_type": "execute_result"
    }
   ],
   "source": [
    "(np.array(p[1]) < 0.05).sum()"
   ]
  },
  {
   "cell_type": "code",
   "execution_count": 1502,
   "id": "fa5c9abe",
   "metadata": {},
   "outputs": [
    {
     "data": {
      "text/plain": [
       "179"
      ]
     },
     "execution_count": 1502,
     "metadata": {},
     "output_type": "execute_result"
    }
   ],
   "source": [
    "(np.array(p[2]) < 0.05).sum()"
   ]
  },
  {
   "cell_type": "code",
   "execution_count": 1503,
   "id": "977a2f6f",
   "metadata": {},
   "outputs": [
    {
     "data": {
      "text/plain": [
       "5098"
      ]
     },
     "execution_count": 1503,
     "metadata": {},
     "output_type": "execute_result"
    }
   ],
   "source": [
    "len(ks[0])"
   ]
  },
  {
   "cell_type": "code",
   "execution_count": 1504,
   "id": "3dc91c17",
   "metadata": {},
   "outputs": [
    {
     "data": {
      "text/plain": [
       "Text(0.5, 0, 'gowalla-20 user id')"
      ]
     },
     "execution_count": 1504,
     "metadata": {},
     "output_type": "execute_result"
    },
    {
     "data": {
      "image/png": "[encoded data removed]",
      "text/plain": [
       "<Figure size 432x288 with 1 Axes>"
      ]
     },
     "metadata": {},
     "output_type": "display_data"
    }
   ],
   "source": [
    "plt.scatter(range(len(p[0])), p[0], s = 8, marker='.')\n",
    "plt.axhline(y=0.05, color='r', linestyle='-')\n",
    "plt.ylabel('p-value')\n",
    "plt.xlabel('gowalla-20 user id')"
   ]
  },
  {
   "cell_type": "code",
   "execution_count": 1505,
   "id": "3536f5a2",
   "metadata": {},
   "outputs": [
    {
     "data": {
      "text/plain": [
       "Text(0.5, 0, 'gowalla-20 user id')"
      ]
     },
     "execution_count": 1505,
     "metadata": {},
     "output_type": "execute_result"
    },
    {
     "data": {
      "image/png": "[encoded data removed]",
      "text/plain": [
       "<Figure size 432x288 with 1 Axes>"
      ]
     },
     "metadata": {},
     "output_type": "display_data"
    }
   ],
   "source": [
    "plt.scatter(range(len(p[1])), p[1], s = 8, marker='.')\n",
    "plt.axhline(y=0.05, color='r', linestyle='-')\n",
    "plt.ylabel('p-value')\n",
    "plt.xlabel('gowalla-20 user id')"
   ]
  },
  {
   "cell_type": "code",
   "execution_count": 1506,
   "id": "a7ae7776",
   "metadata": {},
   "outputs": [
    {
     "data": {
      "text/plain": [
       "Text(0.5, 0, 'gowalla-20 user id')"
      ]
     },
     "execution_count": 1506,
     "metadata": {},
     "output_type": "execute_result"
    },
    {
     "data": {
      "image/png": "[encoded data removed]",
      "text/plain": [
       "<Figure size 432x288 with 1 Axes>"
      ]
     },
     "metadata": {},
     "output_type": "display_data"
    }
   ],
   "source": [
    "plt.scatter(range(len(p[2])), p[2], s = 8, marker='.')\n",
    "plt.axhline(y=0.05, color='r', linestyle='-')\n",
    "plt.ylabel('p-value')\n",
    "plt.xlabel('gowalla-20 user id')"
   ]
  },
  {
   "cell_type": "code",
   "execution_count": 1517,
   "id": "2135dac0",
   "metadata": {},
   "outputs": [
    {
     "data": {
      "text/plain": [
       "(0.0, 2.0)"
      ]
     },
     "execution_count": 1517,
     "metadata": {},
     "output_type": "execute_result"
    },
    {
     "data": {
      "image/png": "[encoded data removed]",
      "text/plain": [
       "<Figure size 432x288 with 1 Axes>"
      ]
     },
     "metadata": {},
     "output_type": "display_data"
    }
   ],
   "source": [
    "plt.scatter(ks[0], ks[1], s=7)\n",
    "plt.xlim(0,2)\n",
    "plt.ylim(0,2)"
   ]
  },
  {
   "cell_type": "code",
   "execution_count": 1520,
   "id": "10a77ea1",
   "metadata": {},
   "outputs": [
    {
     "data": {
      "text/plain": [
       "SpearmanrResult(correlation=0.06594609046215429, pvalue=2.446421941624335e-06)"
      ]
     },
     "execution_count": 1520,
     "metadata": {},
     "output_type": "execute_result"
    }
   ],
   "source": [
    "scipy.stats.spearmanr(p[0], p[1])"
   ]
  },
  {
   "cell_type": "code",
   "execution_count": 1514,
   "id": "67d0985a",
   "metadata": {},
   "outputs": [
    {
     "data": {
      "text/plain": [
       "(0.0, 2000.0)"
      ]
     },
     "execution_count": 1514,
     "metadata": {},
     "output_type": "execute_result"
    },
    {
     "data": {
      "image/png": "[encoded data removed]",
      "text/plain": [
       "<Figure size 432x288 with 1 Axes>"
      ]
     },
     "metadata": {},
     "output_type": "display_data"
    }
   ],
   "source": [
    "plt.hist(p[0], bins=20)\n",
    "plt.ylim(0,2000)"
   ]
  },
  {
   "cell_type": "code",
   "execution_count": 1515,
   "id": "d6a9c2f8",
   "metadata": {},
   "outputs": [
    {
     "data": {
      "text/plain": [
       "(0.0, 200.0)"
      ]
     },
     "execution_count": 1515,
     "metadata": {},
     "output_type": "execute_result"
    },
    {
     "data": {
      "image/png": "[encoded data removed]",
      "text/plain": [
       "<Figure size 432x288 with 1 Axes>"
      ]
     },
     "metadata": {},
     "output_type": "display_data"
    }
   ],
   "source": [
    "plt.hist(p[1], bins=20)\n",
    "plt.ylim(0, 200)"
   ]
  },
  {
   "cell_type": "code",
   "execution_count": 1516,
   "id": "2dcae36b",
   "metadata": {},
   "outputs": [],
   "source": [
    "jens = get_jensen_lists(adj_list)\n",
    "jens = np.array(jens)"
   ]
  },
  {
   "cell_type": "code",
   "execution_count": 1177,
   "id": "364e5ccd",
   "metadata": {},
   "outputs": [],
   "source": [
    "def save_jensen_distances(adj_list, dataset):\n",
    "    jacc = np.array(get_jaccard_lists(adj_list))\n",
    "    np.save(\"Sanity_check/{}/jensen{}.npy\".format(dataset, 0), jens[0])\n",
    "    np.save(\"Sanity_check/{}/jensen{}.npy\".format(dataset, 1), jens[1])\n",
    "    np.save(\"Sanity_check/{}/jensen{}.npy\".format(dataset, 2), jens[2])"
   ]
  },
  {
   "cell_type": "code",
   "execution_count": 1178,
   "id": "8f02d0a9",
   "metadata": {},
   "outputs": [],
   "source": [
    "save_jensen_distances(adj_list, \"Gowalla-20\")"
   ]
  },
  {
   "cell_type": "code",
   "execution_count": 1476,
   "id": "9c133b57",
   "metadata": {},
   "outputs": [],
   "source": [
    "def save_chi_squared(adj_list, dataset, temp=0.1):\n",
    "    _, p = np.array(get_chi_square_lists(adj_list, temp))\n",
    "    np.save(\"Sanity_check/{}/chi{}.npy\".format(dataset, 0), p[0])\n",
    "    np.save(\"Sanity_check/{}/chi{}.npy\".format(dataset, 1), p[1])\n",
    "    np.save(\"Sanity_check/{}/chi{}.npy\".format(dataset, 2), p[2])"
   ]
  },
  {
   "cell_type": "code",
   "execution_count": 1477,
   "id": "b6bc4e44",
   "metadata": {},
   "outputs": [
    {
     "name": "stdout",
     "output_type": "stream",
     "text": [
      "historical [0.1 0.1 0.1 0.1 0.1 0.1 0.1 0.1 0.1 0.1]\n",
      "new [0.00769231 0.08461538 0.39230769 0.00769231 0.31538462 0.00769231\n",
      " 0.00769231 0.00769231 0.16153846 0.00769231]\n",
      "p 0.9933627773398023\n",
      "\n",
      "\n",
      "historical [0.1 3.1 0.1 0.1 0.1 0.1 0.1 6.1 0.1 0.1]\n",
      "new [0.0625 3.8125 0.0625 0.0625 0.0625 0.0625 0.0625 5.6875 0.0625 0.0625]\n",
      "p 0.9999964802590611\n",
      "\n",
      "\n",
      "historical [0.1 1.1 5.1 0.1 4.1 0.1 0.1 0.1 2.1 0.1]\n",
      "new [0.09285714 1.02142857 4.73571429 0.09285714 3.80714286 0.09285714\n",
      " 0.09285714 0.09285714 2.87857143 0.09285714]\n",
      "p 0.9999939533095327\n",
      "\n",
      "\n",
      "historical [0.1 6.1 0.1 0.1 0.1 0.1 0.1 9.1 0.1 0.1]\n",
      "new [0.07619048 5.40952381 0.07619048 0.07619048 0.07619048 0.07619048\n",
      " 0.07619048 9.98095238 0.07619048 0.07619048]\n",
      "p 0.9999993267500302\n",
      "\n",
      "\n",
      "historical [0.1 1.1 5.1 0.1 4.1 0.1 0.1 0.1 3.1 0.1]\n",
      "new [0.05384615 0.59230769 2.74615385 0.05384615 2.20769231 0.05384615\n",
      " 5.97692308 0.05384615 2.20769231 0.05384615]\n",
      "p 1.7007761004666313e-69\n",
      "\n",
      "\n",
      "historical [ 0.1  7.1  0.1  0.1  0.1  0.1  0.1 13.1  0.1  0.1]\n",
      "new [ 0.084  8.484  0.084  0.084  0.084  0.084  0.084 11.844  0.084  0.084]\n",
      "p 0.9999869819509313\n",
      "\n",
      "\n"
     ]
    }
   ],
   "source": [
    "save_chi_squared(adj_list, \"Gowalla-20\")"
   ]
  },
  {
   "cell_type": "code",
   "execution_count": 1478,
   "id": "d71f9dc1",
   "metadata": {},
   "outputs": [
    {
     "data": {
      "text/plain": [
       "5098"
      ]
     },
     "execution_count": 1478,
     "metadata": {},
     "output_type": "execute_result"
    }
   ],
   "source": [
    "len(jens[0])"
   ]
  },
  {
   "cell_type": "code",
   "execution_count": 1479,
   "id": "05fabe68",
   "metadata": {},
   "outputs": [
    {
     "data": {
      "text/plain": [
       "(array([1.509e+03, 1.446e+03, 1.113e+03, 5.970e+02, 2.750e+02, 1.060e+02,\n",
       "        3.600e+01, 1.200e+01, 3.000e+00, 1.000e+00]),\n",
       " array([0.        , 0.25188331, 0.50376662, 0.75564993, 1.00753325,\n",
       "        1.25941656, 1.51129987, 1.76318318, 2.01506649, 2.2669498 ,\n",
       "        2.51883312]),\n",
       " <BarContainer object of 10 artists>)"
      ]
     },
     "execution_count": 1479,
     "metadata": {},
     "output_type": "execute_result"
    },
    {
     "data": {
      "image/png": "[encoded data removed]",
      "text/plain": [
       "<Figure size 432x288 with 1 Axes>"
      ]
     },
     "metadata": {},
     "output_type": "display_data"
    }
   ],
   "source": [
    "plt.hist(jens[0], bins=10)"
   ]
  },
  {
   "cell_type": "code",
   "execution_count": 1181,
   "id": "12e8cf10",
   "metadata": {},
   "outputs": [
    {
     "data": {
      "text/plain": [
       "(array([1105., 1358., 1303.,  715.,  370.,  159.,   58.,   19.,    7.,\n",
       "           4.]),\n",
       " array([0.        , 0.23698501, 0.47397001, 0.71095502, 0.94794003,\n",
       "        1.18492504, 1.42191004, 1.65889505, 1.89588006, 2.13286506,\n",
       "        2.36985007]),\n",
       " <BarContainer object of 10 artists>)"
      ]
     },
     "execution_count": 1181,
     "metadata": {},
     "output_type": "execute_result"
    },
    {
     "data": {
      "image/png": "[encoded data removed]",
      "text/plain": [
       "<Figure size 432x288 with 1 Axes>"
      ]
     },
     "metadata": {},
     "output_type": "display_data"
    }
   ],
   "source": [
    "plt.hist(jens[1], bins=10)"
   ]
  },
  {
   "cell_type": "code",
   "execution_count": 1182,
   "id": "548e1bff",
   "metadata": {},
   "outputs": [
    {
     "data": {
      "text/plain": [
       "(array([ 853., 1408., 1436.,  791.,  393.,  139.,   55.,   13.,    7.,\n",
       "           3.]),\n",
       " array([4.19637416e-04, 2.48053800e-01, 4.95687962e-01, 7.43322125e-01,\n",
       "        9.90956287e-01, 1.23859045e+00, 1.48622461e+00, 1.73385877e+00,\n",
       "        1.98149294e+00, 2.22912710e+00, 2.47676126e+00]),\n",
       " <BarContainer object of 10 artists>)"
      ]
     },
     "execution_count": 1182,
     "metadata": {},
     "output_type": "execute_result"
    },
    {
     "data": {
      "image/png": "[encoded data removed]",
      "text/plain": [
       "<Figure size 432x288 with 1 Axes>"
      ]
     },
     "metadata": {},
     "output_type": "display_data"
    }
   ],
   "source": [
    "plt.hist(jens[2], bins=10)"
   ]
  },
  {
   "cell_type": "code",
   "execution_count": 1205,
   "id": "bff35b14",
   "metadata": {},
   "outputs": [
    {
     "data": {
      "text/plain": [
       "Text(0, 0.5, 'Hedges Wave')"
      ]
     },
     "execution_count": 1205,
     "metadata": {},
     "output_type": "execute_result"
    },
    {
     "data": {
      "image/png": "[encoded data removed]",
      "text/plain": [
       "<Figure size 432x288 with 1 Axes>"
      ]
     },
     "metadata": {},
     "output_type": "display_data"
    }
   ],
   "source": [
    "plt.scatter(jens[0], jacc[0], s=8)\n",
    "plt.xlabel('Jensen')\n",
    "plt.ylabel('Hedges Wave')"
   ]
  },
  {
   "cell_type": "code",
   "execution_count": 1206,
   "id": "ff9abf8b",
   "metadata": {},
   "outputs": [
    {
     "data": {
      "text/plain": [
       "Text(0, 0.5, 'Jensen [1-2]')"
      ]
     },
     "execution_count": 1206,
     "metadata": {},
     "output_type": "execute_result"
    },
    {
     "data": {
      "image/png": "[encoded data removed]",
      "text/plain": [
       "<Figure size 432x288 with 1 Axes>"
      ]
     },
     "metadata": {},
     "output_type": "display_data"
    }
   ],
   "source": [
    "plt.scatter(jens[0], jens[1], s=7)\n",
    "plt.xlabel('Jensen [0-1]')\n",
    "plt.ylabel('Jensen [1-2]')"
   ]
  },
  {
   "cell_type": "code",
   "execution_count": 1207,
   "id": "79666cca",
   "metadata": {},
   "outputs": [
    {
     "data": {
      "text/plain": [
       "Text(0, 0.5, 'Jensen [2-3]')"
      ]
     },
     "execution_count": 1207,
     "metadata": {},
     "output_type": "execute_result"
    },
    {
     "data": {
      "image/png": "[encoded data removed]",
      "text/plain": [
       "<Figure size 432x288 with 1 Axes>"
      ]
     },
     "metadata": {},
     "output_type": "display_data"
    }
   ],
   "source": [
    "plt.scatter(jens[1], jens[2], s=7)\n",
    "plt.xlabel('Jensen [1-2]')\n",
    "plt.ylabel('Jensen [2-3]')"
   ]
  },
  {
   "cell_type": "code",
   "execution_count": 1186,
   "id": "6b7a6fdf",
   "metadata": {},
   "outputs": [
    {
     "data": {
      "text/plain": [
       "Text(0, 0.5, 'Jensen [2-3]')"
      ]
     },
     "execution_count": 1186,
     "metadata": {},
     "output_type": "execute_result"
    },
    {
     "data": {
      "image/png": "[encoded data removed]",
      "text/plain": [
       "<Figure size 432x288 with 1 Axes>"
      ]
     },
     "metadata": {},
     "output_type": "display_data"
    }
   ],
   "source": [
    "plt.scatter(jens[0], jens[2], s=8)\n",
    "plt.xlabel('Jensen [0-1]')\n",
    "plt.ylabel('Jensen [2-3]')"
   ]
  },
  {
   "cell_type": "code",
   "execution_count": 1201,
   "id": "a604c1fc",
   "metadata": {
    "scrolled": false
   },
   "outputs": [
    {
     "name": "stdout",
     "output_type": "stream",
     "text": [
      "[ 131 4260 3551 2780  236  589 1223  507   30 2247]\n",
      "1.2523756949296063\n",
      "[0. 0. 0. 0. 0. 0. 0. 0. 0. 3.]\n",
      "[24.  0.  0.  0.  0.  0.  0.  0.  0.  0.]\n",
      "0.4683828754769248\n",
      "[2. 0. 0. 0. 0. 0. 0. 0. 0. 0.]\n",
      "2.518833116054015\n",
      "[ 0.  0.  1.  0.  0.  0.  0.  0.  2. 70.]\n",
      "[ 0.  0. 21.  0.  0.  0.  0.  0.  3.  0.]\n",
      "0.8746841248728668\n",
      "[0. 0. 2. 0. 0. 0. 0. 0. 0. 1.]\n",
      "1.8162639629574042\n",
      "[0. 0. 0. 0. 0. 0. 0. 0. 0. 0.]\n",
      "[ 0.  1.  0.  0. 96.  0.  0.  0.  0.  0.]\n",
      "1.7338372058613953\n",
      "[0. 5. 0. 1. 2. 0. 0. 0. 5. 0.]\n"
     ]
    }
   ],
   "source": [
    "sort_jens = np.argsort(jens[0])\n",
    "print(sort_jens[-10:])\n",
    "print(jens[0][2010])\n",
    "print(adj_list[0][2010])\n",
    "print(adj_list[1][2010])\n",
    "print(jens[1][2010])\n",
    "print(adj_list[2][2010])\n",
    "print(jens[0][2247])\n",
    "print(adj_list[0][2247])\n",
    "print(adj_list[1][2247])\n",
    "print(jens[1][2247])\n",
    "print(adj_list[2][2247])\n",
    "print(jens[0][131])\n",
    "print(adj_list[0][131])\n",
    "print(adj_list[1][131])\n",
    "print(jens[1][131])\n",
    "print(adj_list[2][131])"
   ]
  },
  {
   "cell_type": "code",
   "execution_count": 1190,
   "id": "46a8e525",
   "metadata": {},
   "outputs": [
    {
     "name": "stdout",
     "output_type": "stream",
     "text": [
      "[5011 4830 4016 4803 5037 3751 4689 3295 3637 4638]\n",
      "0.2707441978963405\n",
      "[0. 6. 0. 0. 0. 0. 0. 4. 2. 0.]\n",
      "[ 0. 63. 10. 16.  0.  0.  0. 41.  9.  0.]\n"
     ]
    }
   ],
   "source": [
    "sort_jens = np.argsort(jens[0])\n",
    "print(sort_jens[:10])\n",
    "print(jens[0][555])\n",
    "print(adj_list[0][555])\n",
    "print(adj_list[1][555])"
   ]
  },
  {
   "cell_type": "code",
   "execution_count": 1192,
   "id": "c59c651d",
   "metadata": {},
   "outputs": [
    {
     "name": "stdout",
     "output_type": "stream",
     "text": [
      "[0. 0. 0. 7. 0. 0. 0. 0. 0. 0.] [0. 0. 0. 0. 0. 0. 0. 0. 1. 0.] [0. 0. 0. 3. 0. 0. 0. 0. 1. 0.]\n"
     ]
    }
   ],
   "source": [
    "print(adj_list[0][4764 ], adj_list[1][4764 ], adj_list[2][4764])"
   ]
  },
  {
   "cell_type": "code",
   "execution_count": 1202,
   "id": "14d5198a",
   "metadata": {},
   "outputs": [
    {
     "name": "stdout",
     "output_type": "stream",
     "text": [
      "Ks_2sampResult(statistic=0.5, pvalue=0.16782134274394334)\n",
      "Ks_2sampResult(statistic=0.1, pvalue=1.0)\n",
      "Ks_2sampResult(statistic=0.1, pvalue=1.0)\n",
      "Ks_2sampResult(statistic=0.1, pvalue=1.0)\n"
     ]
    }
   ],
   "source": [
    "from scipy.stats import ks_2samp\n",
    "\n",
    "#perform Kolmogorov-Smirnov test\n",
    "print(ks_2samp(adj_list[0][555] + 1, adj_list[1][555] + 1))\n",
    "print(ks_2samp(adj_list[0][2010] + 1, adj_list[1][2010] + 1))\n",
    "print(ks_2samp(adj_list[1][2010] + 1, adj_list[2][2010] + 1))\n",
    "print(ks_2samp(adj_list[0][4764] + 1,  adj_list[1][4764] + 1))\n"
   ]
  },
  {
   "cell_type": "code",
   "execution_count": 1203,
   "id": "8c0de1be",
   "metadata": {},
   "outputs": [
    {
     "data": {
      "text/plain": [
       "SpearmanrResult(correlation=-0.22380413546063904, pvalue=6.819194907271656e-59)"
      ]
     },
     "execution_count": 1203,
     "metadata": {},
     "output_type": "execute_result"
    }
   ],
   "source": [
    "scipy.stats.spearmanr(jens[0], jacc[0])"
   ]
  },
  {
   "cell_type": "code",
   "execution_count": 1204,
   "id": "01dfac85",
   "metadata": {},
   "outputs": [
    {
     "data": {
      "text/plain": [
       "SpearmanrResult(correlation=0.5209623356945497, pvalue=0.0)"
      ]
     },
     "execution_count": 1204,
     "metadata": {},
     "output_type": "execute_result"
    }
   ],
   "source": [
    "scipy.stats.spearmanr(jens[0], jens[2])"
   ]
  },
  {
   "cell_type": "code",
   "execution_count": 875,
   "id": "00938688",
   "metadata": {},
   "outputs": [],
   "source": [
    "jacc = get_jaccard_lists(adj_list)\n",
    "jacc = np.array(jacc)"
   ]
  },
  {
   "cell_type": "code",
   "execution_count": 876,
   "id": "6dcd7f7f",
   "metadata": {},
   "outputs": [],
   "source": [
    "def save_jaccard_indices(adj_list, dataset):\n",
    "    jacc = np.array(get_jaccard_lists(adj_list))\n",
    "    np.save(\"Sanity_check/{}/jaccard{}.npy\".format(dataset, 0), jacc[0])\n",
    "    np.save(\"Sanity_check/{}/jaccard{}.npy\".format(dataset, 1), jacc[1])\n",
    "    np.save(\"Sanity_check/{}/jaccard{}.npy\".format(dataset, 2), jacc[2])"
   ]
  },
  {
   "cell_type": "code",
   "execution_count": 877,
   "id": "82a64e34",
   "metadata": {},
   "outputs": [],
   "source": [
    "save_jaccard_indices(adj_list, \"Gowalla-20\")"
   ]
  },
  {
   "cell_type": "code",
   "execution_count": 878,
   "id": "18eeb3f4",
   "metadata": {},
   "outputs": [
    {
     "data": {
      "text/plain": [
       "5098"
      ]
     },
     "execution_count": 878,
     "metadata": {},
     "output_type": "execute_result"
    }
   ],
   "source": [
    "len(jacc[0])"
   ]
  },
  {
   "cell_type": "code",
   "execution_count": 1053,
   "id": "08a2caf8",
   "metadata": {},
   "outputs": [],
   "source": [
    "jacc[0] = np.load(\"Sanity_check/{}/jaccard{}.npy\".format(\"Gowalla-20\", 0))\n",
    "jacc[1] = np.load(\"Sanity_check/{}/jaccard{}.npy\".format(\"Gowalla-20\", 1))\n",
    "jacc[2] = np.load(\"Sanity_check/{}/jaccard{}.npy\".format(\"Gowalla-20\", 2))"
   ]
  },
  {
   "cell_type": "code",
   "execution_count": 1054,
   "id": "13f8bbfd",
   "metadata": {},
   "outputs": [],
   "source": [
    "# (jacc[2] - np.load(\"Sanity_check/{}/jaccard{}.npy\".format(\"Gowalla-20\", 2))).sum()"
   ]
  },
  {
   "cell_type": "code",
   "execution_count": 1055,
   "id": "7205be11",
   "metadata": {},
   "outputs": [
    {
     "data": {
      "text/plain": [
       "5098"
      ]
     },
     "execution_count": 1055,
     "metadata": {},
     "output_type": "execute_result"
    }
   ],
   "source": [
    "len(jacc[1])"
   ]
  },
  {
   "cell_type": "code",
   "execution_count": 1056,
   "id": "4a18fe18",
   "metadata": {},
   "outputs": [],
   "source": [
    "kk = np.argsort(jacc[0])"
   ]
  },
  {
   "cell_type": "code",
   "execution_count": 1057,
   "id": "8cc08756",
   "metadata": {},
   "outputs": [
    {
     "name": "stdout",
     "output_type": "stream",
     "text": [
      "[0.6        0.6125     0.20344828 ... 0.9        0.50909091 0.61666667]\n",
      "[3150  825  577 1693 4439  100   70 1652 5048  147   40   99   44   11\n",
      "  211 2777 2619  109 2626  750]\n",
      "0.0\n",
      "0.9375\n"
     ]
    }
   ],
   "source": [
    "print(jacc[0])\n",
    "print(kk[180:200])\n",
    "print(jacc[0][1528])\n",
    "print(jacc[0][4433])\n",
    "# print(np.argsort(jacc[0]))"
   ]
  },
  {
   "cell_type": "code",
   "execution_count": 1058,
   "id": "00d059eb",
   "metadata": {},
   "outputs": [
    {
     "name": "stdout",
     "output_type": "stream",
     "text": [
      "0.611375\n",
      "[ 0. 50.  0. 17.  0.  0.  0. 32.  9.  0.]\n",
      "[0. 1. 0. 0. 0. 0. 0. 3. 0. 0.]\n"
     ]
    }
   ],
   "source": [
    "print(jacc[0][2920])\n",
    "print(new_old_adj[2920])\n",
    "print(new_u_adj[2920])"
   ]
  },
  {
   "cell_type": "code",
   "execution_count": 1059,
   "id": "6ec965aa",
   "metadata": {},
   "outputs": [
    {
     "name": "stdout",
     "output_type": "stream",
     "text": [
      "[0. 1. 5. 0. 4. 0. 0. 0. 2. 0.]\n",
      "[0. 0. 0. 0. 0. 0. 0. 0. 0. 0.]\n"
     ]
    }
   ],
   "source": [
    "print(new_old_adj[0])\n",
    "print(new_u_adj[0])"
   ]
  },
  {
   "cell_type": "code",
   "execution_count": 1060,
   "id": "81980e65",
   "metadata": {},
   "outputs": [],
   "source": [
    "jacc = np.array(jacc)"
   ]
  },
  {
   "cell_type": "code",
   "execution_count": 1061,
   "id": "cbf87b5a",
   "metadata": {},
   "outputs": [
    {
     "data": {
      "text/plain": [
       "(array([1.000e+00, 1.000e+00, 2.200e+01, 1.170e+02, 3.440e+02, 8.080e+02,\n",
       "        1.218e+03, 1.099e+03, 6.620e+02, 8.260e+02]),\n",
       " array([0.      , 0.099375, 0.19875 , 0.298125, 0.3975  , 0.496875,\n",
       "        0.59625 , 0.695625, 0.795   , 0.894375, 0.99375 ]),\n",
       " <BarContainer object of 10 artists>)"
      ]
     },
     "execution_count": 1061,
     "metadata": {},
     "output_type": "execute_result"
    },
    {
     "data": {
      "image/png": "[encoded data removed]",
      "text/plain": [
       "<Figure size 432x288 with 1 Axes>"
      ]
     },
     "metadata": {},
     "output_type": "display_data"
    }
   ],
   "source": [
    "plt.hist(jacc[2], bins=10)"
   ]
  },
  {
   "cell_type": "code",
   "execution_count": 1066,
   "id": "7cf62782",
   "metadata": {},
   "outputs": [
    {
     "data": {
      "text/plain": [
       "Text(0, 0.5, 'Jaccard indices of block 1')"
      ]
     },
     "execution_count": 1066,
     "metadata": {},
     "output_type": "execute_result"
    },
    {
     "data": {
      "image/png": "[encoded data removed]",
      "text/plain": [
       "<Figure size 432x288 with 1 Axes>"
      ]
     },
     "metadata": {},
     "output_type": "display_data"
    }
   ],
   "source": [
    "plt.scatter(jacc[0], jacc[1])\n",
    "plt.title('Jaccard correlation accross data blocks for the same item')\n",
    "plt.xlabel(\"Jaccard indices of block 0\")\n",
    "plt.ylabel(\"Jaccard indices of block 1\")"
   ]
  },
  {
   "cell_type": "code",
   "execution_count": 1068,
   "id": "e8850222",
   "metadata": {},
   "outputs": [
    {
     "data": {
      "text/plain": [
       "Text(0, 0.5, 'Jaccard indices of block 2')"
      ]
     },
     "execution_count": 1068,
     "metadata": {},
     "output_type": "execute_result"
    },
    {
     "data": {
      "image/png": "[encoded data removed]",
      "text/plain": [
       "<Figure size 432x288 with 1 Axes>"
      ]
     },
     "metadata": {},
     "output_type": "display_data"
    }
   ],
   "source": [
    "plt.scatter(jacc[1], jacc[2])\n",
    "plt.title('Jaccard correlation accross data blocks for the same item')\n",
    "plt.xlabel(\"Jaccard indices of block 1\")\n",
    "plt.ylabel(\"Jaccard indices of block 2\")"
   ]
  },
  {
   "cell_type": "code",
   "execution_count": 1069,
   "id": "8b4eaada",
   "metadata": {},
   "outputs": [
    {
     "data": {
      "text/plain": [
       "Text(0, 0.5, 'Jaccard indices of block 2')"
      ]
     },
     "execution_count": 1069,
     "metadata": {},
     "output_type": "execute_result"
    },
    {
     "data": {
      "image/png": "[encoded data removed]",
      "text/plain": [
       "<Figure size 432x288 with 1 Axes>"
      ]
     },
     "metadata": {},
     "output_type": "display_data"
    }
   ],
   "source": [
    "plt.scatter(jacc[0], jacc[2])\n",
    "plt.title('Jaccard correlation accross data blocks for the same item')\n",
    "plt.xlabel(\"Jaccard indices of block 0\")\n",
    "plt.ylabel(\"Jaccard indices of block 2\")"
   ]
  },
  {
   "cell_type": "code",
   "execution_count": 891,
   "id": "ac0146e6",
   "metadata": {},
   "outputs": [
    {
     "data": {
      "text/plain": [
       "0.4"
      ]
     },
     "execution_count": 891,
     "metadata": {},
     "output_type": "execute_result"
    }
   ],
   "source": [
    "jacc[0][100]"
   ]
  },
  {
   "cell_type": "code",
   "execution_count": 892,
   "id": "dfab205e",
   "metadata": {},
   "outputs": [
    {
     "data": {
      "text/plain": [
       "0.4"
      ]
     },
     "execution_count": 892,
     "metadata": {},
     "output_type": "execute_result"
    }
   ],
   "source": [
    "jacc[1][100]"
   ]
  },
  {
   "cell_type": "code",
   "execution_count": 893,
   "id": "80652d6f",
   "metadata": {},
   "outputs": [
    {
     "data": {
      "text/plain": [
       "0.40857142857142853"
      ]
     },
     "execution_count": 893,
     "metadata": {},
     "output_type": "execute_result"
    }
   ],
   "source": [
    "jacc[2][100]"
   ]
  },
  {
   "cell_type": "code",
   "execution_count": 894,
   "id": "3d78c89a",
   "metadata": {},
   "outputs": [
    {
     "data": {
      "text/plain": [
       "SpearmanrResult(correlation=0.9148874418926692, pvalue=0.0)"
      ]
     },
     "execution_count": 894,
     "metadata": {},
     "output_type": "execute_result"
    }
   ],
   "source": [
    "scipy.stats.spearmanr(jacc[0], jacc[1])"
   ]
  },
  {
   "cell_type": "code",
   "execution_count": 895,
   "id": "def67974",
   "metadata": {},
   "outputs": [
    {
     "data": {
      "text/plain": [
       "SpearmanrResult(correlation=0.9304251106965944, pvalue=0.0)"
      ]
     },
     "execution_count": 895,
     "metadata": {},
     "output_type": "execute_result"
    }
   ],
   "source": [
    "scipy.stats.spearmanr(jacc[1], jacc[2])"
   ]
  },
  {
   "cell_type": "code",
   "execution_count": null,
   "id": "1aa5ea27",
   "metadata": {},
   "outputs": [],
   "source": []
  },
  {
   "cell_type": "code",
   "execution_count": null,
   "id": "dbd36d91",
   "metadata": {},
   "outputs": [],
   "source": []
  },
  {
   "cell_type": "code",
   "execution_count": null,
   "id": "50752045",
   "metadata": {},
   "outputs": [],
   "source": []
  },
  {
   "cell_type": "code",
   "execution_count": 618,
   "id": "f279c823",
   "metadata": {},
   "outputs": [
    {
     "data": {
      "application/vnd.jupyter.widget-view+json": {
       "model_id": "03839cae15224e08bedd5cdfc40433eb",
       "version_major": 2,
       "version_minor": 0
      },
      "text/plain": [
       "  0%|          | 0/5098 [00:00<?, ?it/s]"
      ]
     },
     "metadata": {},
     "output_type": "display_data"
    }
   ],
   "source": [
    "old_u_adj_list = np.load(\"Sanity_check/Gowalla-20/old_user_item_adj_1.npy\")\n",
    "old_n_user, old_n_item = old_u_adj_list.shape\n",
    "u_adj_list = np.load(\"Sanity_check/Gowalla-20/user_item_adj_1.npy\")[:old_n_user, :old_n_item]\n",
    "next_u_adj_list = np.load(\"Sanity_check/Gowalla-20/next_user_item_adj_1.npy\")[:old_n_user, :old_n_item]\n",
    "next_next_u_adj_list = np.load(\"Sanity_check/Gowalla-20/next_user_item_adj_2.npy\")[:old_n_user, :old_n_item]\n",
    "new_u_adj, new_old_adj, new_next_adj, new_next_next_u_adj = convert_u_adj(u_adj_list, old_u_adj_list, next_u_adj_list, next_next_u_adj_list, best_k, y_kmeans[:old_n_item], saved_file=None)"
   ]
  },
  {
   "cell_type": "code",
   "execution_count": 637,
   "id": "75c89db4",
   "metadata": {},
   "outputs": [
    {
     "data": {
      "text/plain": [
       "0.0"
      ]
     },
     "execution_count": 637,
     "metadata": {},
     "output_type": "execute_result"
    }
   ],
   "source": [
    "(new_next_next_u_adj - np.load(\"Sanity_check/{}/ui_cluster_block_{}.npy\".format(\"Gowalla-20\", 3))).sum()"
   ]
  },
  {
   "cell_type": "code",
   "execution_count": 619,
   "id": "3959bd97",
   "metadata": {},
   "outputs": [],
   "source": [
    "np.save(f\"Sanity_check/Gowalla-20/new_u_adj.npy\", new_u_adj)\n",
    "np.save(f\"Sanity_check/Gowalla-20/new_old_adj.npy\", new_old_adj)\n",
    "np.save(f\"Sanity_check/Gowalla-20/new_next_adj.npy\", new_next_adj)\n",
    "np.save(f\"Sanity_check/Gowalla-20/new_next_next_adj.npy\", new_next_next_u_adj)"
   ]
  },
  {
   "cell_type": "code",
   "execution_count": 566,
   "id": "1c1efbbd",
   "metadata": {},
   "outputs": [
    {
     "data": {
      "text/plain": [
       "(5098, 10)"
      ]
     },
     "execution_count": 566,
     "metadata": {},
     "output_type": "execute_result"
    }
   ],
   "source": [
    "new_u_adj.shape"
   ]
  },
  {
   "cell_type": "code",
   "execution_count": 567,
   "id": "3e4ebcb1",
   "metadata": {},
   "outputs": [
    {
     "data": {
      "text/plain": [
       "array([0., 0., 0., 0., 0., 0., 0., 3., 0., 0.])"
      ]
     },
     "execution_count": 567,
     "metadata": {},
     "output_type": "execute_result"
    }
   ],
   "source": [
    "new_u_adj[55]"
   ]
  },
  {
   "cell_type": "code",
   "execution_count": 568,
   "id": "6b19e92f",
   "metadata": {},
   "outputs": [
    {
     "data": {
      "text/plain": [
       "array([ 0.,  5.,  0.,  1.,  1.,  0.,  0., 60.,  0.,  0.])"
      ]
     },
     "execution_count": 568,
     "metadata": {},
     "output_type": "execute_result"
    }
   ],
   "source": [
    "new_old_adj[55]"
   ]
  },
  {
   "cell_type": "code",
   "execution_count": 569,
   "id": "d2c72e17",
   "metadata": {},
   "outputs": [
    {
     "data": {
      "text/plain": [
       "array([0., 0., 0., 0., 0., 0., 0., 8., 0., 0.])"
      ]
     },
     "execution_count": 569,
     "metadata": {},
     "output_type": "execute_result"
    }
   ],
   "source": [
    "new_next_adj[55]"
   ]
  },
  {
   "cell_type": "code",
   "execution_count": 570,
   "id": "d2db4f3a",
   "metadata": {},
   "outputs": [],
   "source": [
    "user_emb_b0 = np.load('Sanity_check/Gowalla-20/u_rep_b0e17.npy')\n",
    "user_emb_b1 = np.load('Sanity_check/Gowalla-20/u_rep_b1e3.npy')[:user_emb_b0.shape[0]]\n",
    "user_emb_b2 = np.load('Sanity_check/Gowalla-20/u_rep_b2e3.npy')[:user_emb_b0.shape[0]]"
   ]
  },
  {
   "cell_type": "code",
   "execution_count": 571,
   "id": "ec11b3e4",
   "metadata": {},
   "outputs": [
    {
     "data": {
      "text/plain": [
       "1.7066378621939962"
      ]
     },
     "execution_count": 571,
     "metadata": {},
     "output_type": "execute_result"
    }
   ],
   "source": [
    "calc_l2(user_emb_b0[55], user_emb_b1[55])"
   ]
  },
  {
   "cell_type": "code",
   "execution_count": 572,
   "id": "3c81c3b1",
   "metadata": {},
   "outputs": [
    {
     "data": {
      "text/plain": [
       "1.3718401571746437"
      ]
     },
     "execution_count": 572,
     "metadata": {},
     "output_type": "execute_result"
    }
   ],
   "source": [
    "calc_l2(user_emb_b2[55], user_emb_b1[55])"
   ]
  },
  {
   "cell_type": "code",
   "execution_count": 573,
   "id": "70d0b3cd",
   "metadata": {},
   "outputs": [
    {
     "data": {
      "text/plain": [
       "1.686275806719666"
      ]
     },
     "execution_count": 573,
     "metadata": {},
     "output_type": "execute_result"
    }
   ],
   "source": [
    "calc_l2(user_emb_b0[55], user_emb_b2[55])"
   ]
  },
  {
   "cell_type": "code",
   "execution_count": 574,
   "id": "5c6110d5",
   "metadata": {},
   "outputs": [
    {
     "data": {
      "text/plain": [
       "array([-0.09663812, -0.01083299,  0.3226869 , -0.02398845,  0.37409199,\n",
       "        0.04387468, -0.04064237, -0.15180178, -0.15209747, -0.01064202,\n",
       "        0.22591685,  0.126346  , -0.00358873,  0.51679101, -0.28609539,\n",
       "        0.38110467, -0.24202375, -0.55142555, -0.01673142, -0.20113164,\n",
       "        0.20602707, -0.25909486,  0.11405149, -0.51571336,  0.01100014,\n",
       "       -0.36396493, -0.04610116,  0.2262388 ,  0.57645683, -0.2696408 ,\n",
       "       -0.2097895 ,  0.03475739,  0.20658268,  0.03867604,  0.08873919,\n",
       "        0.11548266,  0.02081429, -0.54903358,  0.20967334,  0.16802335,\n",
       "        0.02688161,  0.00448179, -0.0818341 , -0.15617238,  0.05021892,\n",
       "        0.17617918, -0.38963699,  0.40007984,  0.42091344, -0.14151774,\n",
       "       -0.16101237,  0.28716641,  0.30669001, -0.18803333,  0.32779973,\n",
       "       -0.00635553, -0.01133896,  0.12669274, -0.40672446, -0.24884632,\n",
       "       -0.04351515, -0.13097803,  0.19964788,  0.02980177, -0.09662572,\n",
       "       -0.38971754,  0.12333397,  0.04391051,  0.1231393 , -0.42408195,\n",
       "        0.24730626, -0.13648082,  0.10917459, -0.03057837,  0.34616357,\n",
       "       -0.29337886,  0.35808176, -0.18556327, -0.22179153, -0.24300726,\n",
       "       -0.08115156, -0.3792717 , -0.0388213 , -0.26454514, -0.25541893,\n",
       "       -0.12029764, -0.39594129,  0.23652282, -0.31743974, -0.30035066,\n",
       "       -0.37668338, -0.14947414,  0.30987007, -0.29096171, -0.00326571,\n",
       "       -0.41087061,  0.50604504,  0.07979353,  0.01677603, -0.11933468,\n",
       "       -0.06656516, -0.259531  ,  0.18675471,  0.33760582, -0.39825369,\n",
       "       -0.06587378,  0.21767601, -0.39682484, -0.29391939,  0.10194766,\n",
       "        0.02032583, -0.3645049 ,  0.35831106, -0.11648482, -0.18854343,\n",
       "        0.14626621,  0.33452311,  0.28535494,  0.18388103,  0.50645547,\n",
       "        0.06630903, -0.28705792, -0.28172642, -0.25740713, -0.14983249,\n",
       "        0.48337692, -0.35752057,  0.30388217])"
      ]
     },
     "execution_count": 574,
     "metadata": {},
     "output_type": "execute_result"
    }
   ],
   "source": [
    "user_emb_b0[55]"
   ]
  },
  {
   "cell_type": "code",
   "execution_count": 575,
   "id": "30414f9f",
   "metadata": {},
   "outputs": [
    {
     "data": {
      "text/plain": [
       "array([-0.12500351,  0.14492408,  0.20472248, -0.36748666,  0.37603788,\n",
       "        0.07590256, -0.26138486, -0.19125339, -0.2436997 , -0.20186448,\n",
       "        0.27863205,  0.50219251, -0.15066297,  0.43888448, -0.21164897,\n",
       "        0.52166851, -0.50662296, -0.51963589, -0.04548465, -0.33341627,\n",
       "        0.17842074, -0.19944756,  0.26608608, -0.664327  ,  0.11040051,\n",
       "       -0.52042211, -0.42139313,  0.15366036,  0.43906764, -0.03112479,\n",
       "        0.18499775, -0.02373026,  0.06983979,  0.35206136,  0.10428137,\n",
       "       -0.11847642, -0.0128001 , -0.64645226,  0.09647183,  0.3060536 ,\n",
       "        0.0323944 , -0.05495744,  0.03292445, -0.00708692,  0.02098904,\n",
       "        0.2693723 , -0.42085952,  0.34673076,  0.29285339, -0.28764517,\n",
       "       -0.00351804,  0.28886273,  0.37964993, -0.13127068,  0.4955859 ,\n",
       "        0.00663469,  0.01068085,  0.14709122, -0.55988308, -0.15370168,\n",
       "       -0.22656988, -0.2216815 ,  0.16228561,  0.14499992,  0.0619638 ,\n",
       "       -0.05329899,  0.37976867, -0.11520222,  0.22298137, -0.75954211,\n",
       "        0.25191063,  0.0149497 ,  0.09074919,  0.10135969,  0.53086891,\n",
       "       -0.37431725,  0.52385984,  0.04659361, -0.00512508, -0.189786  ,\n",
       "        0.10480315, -0.45957978, -0.08235892, -0.09533595, -0.25223215,\n",
       "       -0.36558686, -0.43201042,  0.22978512, -0.53954541, -0.48832259,\n",
       "       -0.47431054, -0.29070385,  0.06250031, -0.29803399,  0.06133477,\n",
       "       -0.46980767,  0.57469022,  0.13092016, -0.14902977, -0.34181636,\n",
       "       -0.1039988 , -0.30137082,  0.16349388,  0.16948332, -0.52400764,\n",
       "       -0.07459945,  0.12567726, -0.52740436, -0.19511414, -0.11502064,\n",
       "        0.02316226, -0.14326973,  0.42058582, -0.04315241, -0.15366226,\n",
       "        0.21438659,  0.35342002,  0.39110951,  0.32524831,  0.56654769,\n",
       "        0.04637745,  0.09746954, -0.14461021, -0.30987801, -0.16758176,\n",
       "        0.53078357, -0.23868188,  0.35047988])"
      ]
     },
     "execution_count": 575,
     "metadata": {},
     "output_type": "execute_result"
    }
   ],
   "source": [
    "user_emb_b2[55]"
   ]
  },
  {
   "cell_type": "code",
   "execution_count": 576,
   "id": "358af94b",
   "metadata": {},
   "outputs": [
    {
     "data": {
      "text/plain": [
       "(5098, 128)"
      ]
     },
     "execution_count": 576,
     "metadata": {},
     "output_type": "execute_result"
    }
   ],
   "source": [
    "user_emb_b0.shape"
   ]
  },
  {
   "cell_type": "code",
   "execution_count": 577,
   "id": "883788fd",
   "metadata": {},
   "outputs": [
    {
     "data": {
      "text/plain": [
       "0.605"
      ]
     },
     "execution_count": 577,
     "metadata": {},
     "output_type": "execute_result"
    }
   ],
   "source": [
    "calc_jaccard(new_old_adj[55], new_u_adj[55])"
   ]
  },
  {
   "cell_type": "code",
   "execution_count": 578,
   "id": "fdc691b4",
   "metadata": {},
   "outputs": [
    {
     "data": {
      "text/plain": [
       "array([[0., 1., 0., ..., 0., 0., 0.],\n",
       "       [0., 0., 0., ..., 0., 0., 0.],\n",
       "       [0., 0., 1., ..., 0., 0., 0.],\n",
       "       ...,\n",
       "       [0., 3., 0., ..., 0., 0., 1.],\n",
       "       [0., 0., 0., ..., 0., 0., 0.],\n",
       "       [0., 0., 0., ..., 0., 0., 0.]])"
      ]
     },
     "execution_count": 578,
     "metadata": {},
     "output_type": "execute_result"
    }
   ],
   "source": [
    "new_next_adj"
   ]
  },
  {
   "cell_type": "code",
   "execution_count": 579,
   "id": "9d4adcc3",
   "metadata": {},
   "outputs": [],
   "source": [
    "jaccard_list = []\n",
    "for i in range(new_old_adj.shape[0]):\n",
    "    jaccard_list.append(calc_jaccard(new_old_adj[i], new_u_adj[i]))\n",
    "\n",
    "jaccard_list_future = []\n",
    "for i in range(new_old_adj.shape[0]):\n",
    "    jaccard_list_future.append(calc_jaccard(new_u_adj[i], new_next_adj[i]))"
   ]
  },
  {
   "cell_type": "code",
   "execution_count": 580,
   "id": "3b5bfeb8",
   "metadata": {},
   "outputs": [],
   "source": [
    "cumulative_jaccard_list = []\n",
    "for i in range(new_old_adj.shape[0]):\n",
    "    cumulative_jaccard_list.append(calc_jaccard(new_old_adj[i], new_old_adj[i] + new_u_adj[i]))"
   ]
  },
  {
   "cell_type": "code",
   "execution_count": 581,
   "id": "85de6395",
   "metadata": {},
   "outputs": [
    {
     "data": {
      "text/plain": [
       "(array([1.000e+00, 2.000e+00, 3.200e+01, 5.100e+01, 1.880e+02, 8.740e+02,\n",
       "        1.084e+03, 7.990e+02, 1.024e+03, 1.043e+03]),\n",
       " array([0. , 0.1, 0.2, 0.3, 0.4, 0.5, 0.6, 0.7, 0.8, 0.9, 1. ]),\n",
       " <BarContainer object of 10 artists>)"
      ]
     },
     "execution_count": 581,
     "metadata": {},
     "output_type": "execute_result"
    },
    {
     "data": {
      "image/png": "[encoded data removed]",
      "text/plain": [
       "<Figure size 432x288 with 1 Axes>"
      ]
     },
     "metadata": {},
     "output_type": "display_data"
    }
   ],
   "source": [
    "plt.hist(jaccard_list, bins=10)"
   ]
  },
  {
   "cell_type": "code",
   "execution_count": 608,
   "id": "8a648215",
   "metadata": {},
   "outputs": [
    {
     "data": {
      "text/plain": [
       "(array([2.000e+00, 0.000e+00, 5.000e+00, 2.400e+01, 8.400e+01, 1.350e+02,\n",
       "        5.200e+02, 8.530e+02, 1.386e+03, 2.089e+03]),\n",
       " array([0.22857143, 0.30571429, 0.38285714, 0.46      , 0.53714286,\n",
       "        0.61428571, 0.69142857, 0.76857143, 0.84571429, 0.92285714,\n",
       "        1.        ]),\n",
       " <BarContainer object of 10 artists>)"
      ]
     },
     "execution_count": 608,
     "metadata": {},
     "output_type": "execute_result"
    },
    {
     "data": {
      "image/png": "[encoded data removed]",
      "text/plain": [
       "<Figure size 432x288 with 1 Axes>"
      ]
     },
     "metadata": {},
     "output_type": "display_data"
    }
   ],
   "source": [
    "plt.hist(jaccard_list_future, bins=10)"
   ]
  },
  {
   "cell_type": "code",
   "execution_count": 609,
   "id": "b6ab4d16",
   "metadata": {},
   "outputs": [
    {
     "data": {
      "text/plain": [
       "(array([2.000e+00, 2.000e+00, 4.000e+00, 1.500e+01, 3.500e+01, 8.100e+01,\n",
       "        1.570e+02, 3.960e+02, 6.620e+02, 3.744e+03]),\n",
       " array([0.4013834 , 0.46124506, 0.52110672, 0.58096838, 0.64083004,\n",
       "        0.7006917 , 0.76055336, 0.82041502, 0.88027668, 0.94013834,\n",
       "        1.        ]),\n",
       " <BarContainer object of 10 artists>)"
      ]
     },
     "execution_count": 609,
     "metadata": {},
     "output_type": "execute_result"
    },
    {
     "data": {
      "image/png": "[encoded data removed]",
      "text/plain": [
       "<Figure size 432x288 with 1 Axes>"
      ]
     },
     "metadata": {},
     "output_type": "display_data"
    }
   ],
   "source": [
    "plt.hist(cumulative_jaccard_list, bins=10)"
   ]
  },
  {
   "cell_type": "code",
   "execution_count": 584,
   "id": "1085a877",
   "metadata": {},
   "outputs": [
    {
     "data": {
      "text/plain": [
       "[1.0,\n",
       " 0.9933333333333334,\n",
       " 0.9966666666666667,\n",
       " 1.0,\n",
       " 1.0,\n",
       " 0.9935483870967742,\n",
       " 0.8326171118854045,\n",
       " 0.9953846153846154,\n",
       " 0.9878048780487806,\n",
       " 0.9647058823529411,\n",
       " 0.9924211938296444,\n",
       " 1.0,\n",
       " 0.9747921011999893,\n",
       " 0.9836065573770492,\n",
       " 0.9863636363636363,\n",
       " 1.0,\n",
       " 0.9974358974358974,\n",
       " 0.8633879781420765,\n",
       " 0.9370149253731344,\n",
       " 1.0,\n",
       " 0.8795950519313805,\n",
       " 0.9531372549019608,\n",
       " 0.971304347826087,\n",
       " 1.0,\n",
       " 0.9857142857142858,\n",
       " 0.9880000000000001,\n",
       " 1.0,\n",
       " 0.9661064425770307,\n",
       " 0.9683333333333334,\n",
       " 0.9,\n",
       " 1.0,\n",
       " 1.0,\n",
       " 0.8882352941176471,\n",
       " 0.9875,\n",
       " 0.9954545454545455,\n",
       " 1.0,\n",
       " 0.9925791855203621,\n",
       " 1.0,\n",
       " 1.0,\n",
       " 0.9556618357487924,\n",
       " 1.0,\n",
       " 0.865079365079365,\n",
       " 1.0,\n",
       " 0.88125,\n",
       " 1.0,\n",
       " 0.8823529411764707,\n",
       " 1.0,\n",
       " 0.9744985525227461,\n",
       " 0.9978260869565219,\n",
       " 0.9764705882352942,\n",
       " 0.9857142857142858,\n",
       " 1.0,\n",
       " 0.9769341949829755,\n",
       " 0.9460770975056689,\n",
       " 1.0,\n",
       " 0.9952380952380953,\n",
       " 0.9905701754385966,\n",
       " 0.9944444444444445,\n",
       " 0.9897959183673469,\n",
       " 1.0,\n",
       " 0.9921695536102316,\n",
       " 0.9979166666666666,\n",
       " 0.9800000000000001,\n",
       " 1.0,\n",
       " 1.0,\n",
       " 1.0,\n",
       " 0.9892857142857142,\n",
       " 0.9714733542319749,\n",
       " 1.0,\n",
       " 1.0,\n",
       " 1.0,\n",
       " 0.9875,\n",
       " 1.0,\n",
       " 1.0,\n",
       " 0.9692307692307693,\n",
       " 0.9329885057471264,\n",
       " 1.0,\n",
       " 0.9884615384615385,\n",
       " 0.9954545454545455,\n",
       " 1.0,\n",
       " 0.9934375,\n",
       " 0.8916666666666668,\n",
       " 0.9953846153846154,\n",
       " 1.0,\n",
       " 0.9800000000000001,\n",
       " 0.9323529411764706,\n",
       " 0.9,\n",
       " 0.9938327535850757,\n",
       " 0.9942307692307694,\n",
       " 0.95,\n",
       " 0.9741558441558441,\n",
       " 0.9962962962962962,\n",
       " 0.9742063492063492,\n",
       " 0.9791622899159664,\n",
       " 0.9842105263157894,\n",
       " 0.9555555555555555,\n",
       " 0.945,\n",
       " 0.9855411255411255,\n",
       " 0.7871794871794872,\n",
       " 0.9,\n",
       " 1.0,\n",
       " 0.9834343434343434,\n",
       " 0.983957219251337,\n",
       " 0.9880000000000001,\n",
       " 1.0,\n",
       " 0.9950819672131148,\n",
       " 1.0,\n",
       " 0.8939999999999999,\n",
       " 0.9773529411764705,\n",
       " 0.9967618561958185,\n",
       " 1.0,\n",
       " 0.9575757575757574,\n",
       " 1.0,\n",
       " 0.825,\n",
       " 0.9944444444444445,\n",
       " 1.0,\n",
       " 0.9577380952380953,\n",
       " 1.0,\n",
       " 0.9966666666666667,\n",
       " 0.99,\n",
       " 0.9952380952380953,\n",
       " 1.0,\n",
       " 0.983545918367347,\n",
       " 0.9923076923076923,\n",
       " 0.892393509127789,\n",
       " 0.9839743589743591,\n",
       " 0.9913043478260869,\n",
       " 0.9138095238095237,\n",
       " 0.9990291262135923,\n",
       " 1.0,\n",
       " 0.7785714285714286,\n",
       " 1.0,\n",
       " 0.9849264705882353,\n",
       " 1.0,\n",
       " 0.9969696969696968,\n",
       " 1.0,\n",
       " 1.0,\n",
       " 1.0,\n",
       " 1.0,\n",
       " 0.9358695652173914,\n",
       " 0.885483870967742,\n",
       " 1.0,\n",
       " 1.0,\n",
       " 0.9956501182033097,\n",
       " 0.9923076923076923,\n",
       " 0.85,\n",
       " 1.0,\n",
       " 1.0,\n",
       " 0.9789473684210526,\n",
       " 1.0,\n",
       " 0.9720000000000001,\n",
       " 1.0,\n",
       " 0.9974358974358974,\n",
       " 0.9980392156862745,\n",
       " 1.0,\n",
       " 0.9796666666666667,\n",
       " 0.9901960784313726,\n",
       " 0.9375,\n",
       " 0.8933333333333333,\n",
       " 0.9149928332537028,\n",
       " 0.9471590909090908,\n",
       " 0.8935483870967742,\n",
       " 1.0,\n",
       " 1.0,\n",
       " 0.9488888888888889,\n",
       " 1.0,\n",
       " 1.0,\n",
       " 1.0,\n",
       " 0.9693817204301075,\n",
       " 1.0,\n",
       " 1.0,\n",
       " 1.0,\n",
       " 1.0,\n",
       " 1.0,\n",
       " 0.9962962962962963,\n",
       " 1.0,\n",
       " 0.9878787878787879,\n",
       " 1.0,\n",
       " 0.976923076923077,\n",
       " 0.8796581196581197,\n",
       " 1.0,\n",
       " 1.0,\n",
       " 0.8790017825311942,\n",
       " 0.9666666666666666,\n",
       " 0.9916666666666668,\n",
       " 1.0,\n",
       " 1.0,\n",
       " 1.0,\n",
       " 1.0,\n",
       " 1.0,\n",
       " 0.9913793103448276,\n",
       " 0.9832432432432432,\n",
       " 1.0,\n",
       " 0.9818181818181818,\n",
       " 0.9954545454545455,\n",
       " 0.9902439024390244,\n",
       " 0.9716666666666667,\n",
       " 0.9831501831501832,\n",
       " 0.985897435897436,\n",
       " 1.0,\n",
       " 0.9806526806526807,\n",
       " 0.981230674087817,\n",
       " 1.0,\n",
       " 0.8306060606060607,\n",
       " 0.8798611111111111,\n",
       " 0.8983870967741936,\n",
       " 1.0,\n",
       " 1.0,\n",
       " 0.9685714285714286,\n",
       " 0.9909090909090909,\n",
       " 0.99375,\n",
       " 0.9986111111111111,\n",
       " 0.9916666666666668,\n",
       " 0.8851851851851851,\n",
       " 1.0,\n",
       " 0.9266666666666667,\n",
       " 0.75,\n",
       " 0.9887499999999999,\n",
       " 1.0,\n",
       " 0.9783333333333333,\n",
       " 1.0,\n",
       " 0.8112727272727274,\n",
       " 1.0,\n",
       " 0.9947368421052631,\n",
       " 1.0,\n",
       " 1.0,\n",
       " 0.9933333333333334,\n",
       " 0.9914285714285714,\n",
       " 0.8829425191948538,\n",
       " 0.9057575757575759,\n",
       " 1.0,\n",
       " 0.9901960784313726,\n",
       " 1.0,\n",
       " 0.9964705882352941,\n",
       " 0.9916666666666666,\n",
       " 0.898076923076923,\n",
       " 1.0,\n",
       " 1.0,\n",
       " 1.0,\n",
       " 0.9976190476190476,\n",
       " 1.0,\n",
       " 1.0,\n",
       " 0.9960674157303371,\n",
       " 1.0,\n",
       " 1.0,\n",
       " 0.8726315789473684,\n",
       " 0.9,\n",
       " 0.9798136645962734,\n",
       " 1.0,\n",
       " 0.9693181818181819,\n",
       " 1.0,\n",
       " 1.0,\n",
       " 1.0,\n",
       " 1.0,\n",
       " 1.0,\n",
       " 0.9953488372093023,\n",
       " 1.0,\n",
       " 0.8291666666666666,\n",
       " 1.0,\n",
       " 0.8571428571428571,\n",
       " 0.9296066538002024,\n",
       " 1.0,\n",
       " 0.9944444444444445,\n",
       " 1.0,\n",
       " 1.0,\n",
       " 0.9875,\n",
       " 1.0,\n",
       " 0.9933333333333334,\n",
       " 0.9833333333333332,\n",
       " 0.9842105263157894,\n",
       " 1.0,\n",
       " 1.0,\n",
       " 0.978409090909091,\n",
       " 0.9423076923076923,\n",
       " 1.0,\n",
       " 1.0,\n",
       " 1.0,\n",
       " 0.9976744186046511,\n",
       " 0.9976744186046511,\n",
       " 0.8836363636363636,\n",
       " 0.9099999999999999,\n",
       " 0.9928571428571429,\n",
       " 0.9,\n",
       " 1.0,\n",
       " 1.0,\n",
       " 0.9604166666666666,\n",
       " 0.9638888888888889,\n",
       " 0.9846153846153847,\n",
       " 1.0,\n",
       " 0.7177272727272728,\n",
       " 0.9882352941176471,\n",
       " 1.0,\n",
       " 1.0,\n",
       " 0.9761904761904763,\n",
       " 1.0,\n",
       " 1.0,\n",
       " 0.7333333333333333,\n",
       " 0.9613275613275614,\n",
       " 0.8846883468834689,\n",
       " 0.978956228956229,\n",
       " 0.9944444444444445,\n",
       " 1.0,\n",
       " 1.0,\n",
       " 0.95,\n",
       " 1.0,\n",
       " 1.0,\n",
       " 1.0,\n",
       " 1.0,\n",
       " 1.0,\n",
       " 1.0,\n",
       " 0.9666666666666668,\n",
       " 0.95,\n",
       " 0.888888888888889,\n",
       " 0.99,\n",
       " 1.0,\n",
       " 1.0,\n",
       " 0.9904545454545455,\n",
       " 1.0,\n",
       " 1.0,\n",
       " 1.0,\n",
       " 1.0,\n",
       " 1.0,\n",
       " 0.9882352941176471,\n",
       " 1.0,\n",
       " 0.8806451612903226,\n",
       " 0.9407894736842106,\n",
       " 1.0,\n",
       " 0.9771428571428572,\n",
       " 0.9767543859649124,\n",
       " 0.9881944444444445,\n",
       " 0.9865384615384615,\n",
       " 1.0,\n",
       " 0.8638095238095238,\n",
       " 0.9,\n",
       " 0.735,\n",
       " 1.0,\n",
       " 0.9866666666666667,\n",
       " 1.0,\n",
       " 0.9954545454545455,\n",
       " 0.9761904761904763,\n",
       " 1.0,\n",
       " 1.0,\n",
       " 1.0,\n",
       " 0.9554578754578754,\n",
       " 0.9898284313725491,\n",
       " 0.9823529411764707,\n",
       " 0.9947368421052631,\n",
       " 0.9,\n",
       " 0.8232167832167832,\n",
       " 0.8629999999999999,\n",
       " 0.9,\n",
       " 1.0,\n",
       " 1.0,\n",
       " 0.940909090909091,\n",
       " 0.973421763694424,\n",
       " 1.0,\n",
       " 1.0,\n",
       " 1.0,\n",
       " 1.0,\n",
       " 1.0,\n",
       " 1.0,\n",
       " 0.9320807453416149,\n",
       " 0.9949999999999999,\n",
       " 1.0,\n",
       " 1.0,\n",
       " 0.8879999999999999,\n",
       " 0.8638888888888889,\n",
       " 1.0,\n",
       " 0.970197628458498,\n",
       " 0.9571428571428571,\n",
       " 1.0,\n",
       " 0.99375,\n",
       " 1.0,\n",
       " 0.983095238095238,\n",
       " 1.0,\n",
       " 1.0,\n",
       " 1.0,\n",
       " 1.0,\n",
       " 0.9842105263157894,\n",
       " 0.8730603448275861,\n",
       " 0.9942857142857143,\n",
       " 1.0,\n",
       " 0.976388888888889,\n",
       " 1.0,\n",
       " 1.0,\n",
       " 0.9955223880597014,\n",
       " 0.95,\n",
       " 1.0,\n",
       " 0.975,\n",
       " 1.0,\n",
       " 1.0,\n",
       " 0.905,\n",
       " 0.9857142857142858,\n",
       " 0.8923076923076924,\n",
       " 1.0,\n",
       " 0.8749608763693271,\n",
       " 0.9981481481481481,\n",
       " 0.96125,\n",
       " 1.0,\n",
       " 0.984,\n",
       " 0.9555555555555555,\n",
       " 0.955200746965453,\n",
       " 1.0,\n",
       " 0.9914855072463767,\n",
       " 0.9362007168458781,\n",
       " 0.9637351778656127,\n",
       " 1.0,\n",
       " 1.0,\n",
       " 1.0,\n",
       " 1.0,\n",
       " 0.9904761904761905,\n",
       " 0.9795918367346939,\n",
       " 0.9879999999999999,\n",
       " 1.0,\n",
       " 0.9,\n",
       " 0.8700000000000001,\n",
       " 1.0,\n",
       " 1.0,\n",
       " 0.9985915492957746,\n",
       " 1.0,\n",
       " 1.0,\n",
       " 1.0,\n",
       " 0.9,\n",
       " 0.939423076923077,\n",
       " 1.0,\n",
       " 0.984526967285588,\n",
       " 1.0,\n",
       " 1.0,\n",
       " 0.9949999999999999,\n",
       " 0.9862068965517242,\n",
       " 0.8764705882352942,\n",
       " 1.0,\n",
       " 0.9596905222437137,\n",
       " 1.0,\n",
       " 0.9623306233062332,\n",
       " 0.8893617021276595,\n",
       " 0.9008121326333738,\n",
       " 1.0,\n",
       " 0.9913793103448276,\n",
       " 0.9882352941176471,\n",
       " 0.9829545454545455,\n",
       " 0.85,\n",
       " 1.0,\n",
       " 0.9400000000000001,\n",
       " 0.9972222222222221,\n",
       " 1.0,\n",
       " 0.9983606557377049,\n",
       " 1.0,\n",
       " 0.9846153846153847,\n",
       " 0.8763888888888889,\n",
       " 0.9756756756756758,\n",
       " 0.9990384615384615,\n",
       " 1.0,\n",
       " 1.0,\n",
       " 0.9405677655677657,\n",
       " 1.0,\n",
       " 1.0,\n",
       " 1.0,\n",
       " 0.9904761904761905,\n",
       " 1.0,\n",
       " 0.9954545454545455,\n",
       " 1.0,\n",
       " 1.0,\n",
       " 0.9968253968253968,\n",
       " 0.9,\n",
       " 1.0,\n",
       " 1.0,\n",
       " 1.0,\n",
       " 0.9825396825396826,\n",
       " 0.9285714285714286,\n",
       " 0.9777777777777779,\n",
       " 1.0,\n",
       " 1.0,\n",
       " 1.0,\n",
       " 0.9795918367346939,\n",
       " 0.9912207357859533,\n",
       " 0.9933333333333334,\n",
       " 1.0,\n",
       " 1.0,\n",
       " 0.9775,\n",
       " 0.9947368421052631,\n",
       " 0.9833333333333332,\n",
       " 0.9757142857142856,\n",
       " 0.99,\n",
       " 0.9982758620689655,\n",
       " 1.0,\n",
       " 0.9931428571428572,\n",
       " 1.0,\n",
       " 0.9967741935483871,\n",
       " 1.0,\n",
       " 1.0,\n",
       " 1.0,\n",
       " 1.0,\n",
       " 0.9909090909090909,\n",
       " 0.9416666666666667,\n",
       " 0.9,\n",
       " 1.0,\n",
       " 1.0,\n",
       " 0.976923076923077,\n",
       " 0.9895833333333334,\n",
       " 1.0,\n",
       " 0.9961538461538462,\n",
       " 1.0,\n",
       " 0.9875,\n",
       " 1.0,\n",
       " 0.9981481481481481,\n",
       " 0.9777777777777779,\n",
       " 1.0,\n",
       " 1.0,\n",
       " 1.0,\n",
       " 0.8659138655462184,\n",
       " 0.906060606060606,\n",
       " 0.9986111111111111,\n",
       " 0.9958333333333333,\n",
       " 0.9857142857142858,\n",
       " 0.9822660098522167,\n",
       " 0.9857142857142858,\n",
       " 0.961111111111111,\n",
       " 0.9666666666666666,\n",
       " 0.8923076923076924,\n",
       " 1.0,\n",
       " 0.9404761904761905,\n",
       " 1.0,\n",
       " 0.998076923076923,\n",
       " 0.9333333333333333,\n",
       " 0.9846153846153847,\n",
       " 1.0,\n",
       " 0.8677777777777778,\n",
       " 0.9927272727272728,\n",
       " 0.9976190476190476,\n",
       " 0.9941176470588236,\n",
       " 0.990909090909091,\n",
       " 1.0,\n",
       " 1.0,\n",
       " 0.9646153846153848,\n",
       " 1.0,\n",
       " 0.9703296703296704,\n",
       " 0.9681818181818181,\n",
       " 0.965873015873016,\n",
       " 1.0,\n",
       " 1.0,\n",
       " 0.9983050847457626,\n",
       " 0.9928571428571429,\n",
       " 0.9909090909090909,\n",
       " 1.0,\n",
       " 1.0,\n",
       " 0.9866666666666667,\n",
       " 1.0,\n",
       " 0.9975308641975309,\n",
       " 0.9935483870967742,\n",
       " 1.0,\n",
       " 0.985,\n",
       " 0.956140350877193,\n",
       " 0.9981818181818183,\n",
       " 0.9575757575757576,\n",
       " 0.9547904925263417,\n",
       " 0.99375,\n",
       " 1.0,\n",
       " 1.0,\n",
       " 1.0,\n",
       " 0.9648484848484848,\n",
       " 1.0,\n",
       " 0.9936170212765958,\n",
       " 0.990909090909091,\n",
       " 1.0,\n",
       " 0.95,\n",
       " 0.99375,\n",
       " 0.9857142857142858,\n",
       " 0.9941176470588236,\n",
       " 0.9777142857142858,\n",
       " 0.9864253393665159,\n",
       " 0.9715579710144928,\n",
       " 0.9888888888888889,\n",
       " 1.0,\n",
       " 1.0,\n",
       " 0.9862745098039216,\n",
       " 0.9875,\n",
       " 1.0,\n",
       " 0.85,\n",
       " 0.977124183006536,\n",
       " 0.9333333333333332,\n",
       " 1.0,\n",
       " 0.9977272727272727,\n",
       " 1.0,\n",
       " 1.0,\n",
       " 1.0,\n",
       " 0.9721523410202655,\n",
       " 1.0,\n",
       " 0.9947368421052631,\n",
       " 1.0,\n",
       " 0.990909090909091,\n",
       " 1.0,\n",
       " 0.9357142857142857,\n",
       " 0.9983333333333334,\n",
       " 1.0,\n",
       " 0.8789760348583877,\n",
       " 0.9473684210526315,\n",
       " 0.947752808988764,\n",
       " 0.9949999999999999,\n",
       " 1.0,\n",
       " 0.996039603960396,\n",
       " 0.991549295774648,\n",
       " 0.7951219512195122,\n",
       " 0.9966666666666667,\n",
       " 1.0,\n",
       " 0.9734210526315789,\n",
       " 1.0,\n",
       " 0.9904761904761905,\n",
       " 0.9927272727272728,\n",
       " 0.9542628205128205,\n",
       " 1.0,\n",
       " 0.9969696969696968,\n",
       " 0.9441176470588235,\n",
       " 1.0,\n",
       " 0.9441176470588235,\n",
       " 0.8827380952380952,\n",
       " 1.0,\n",
       " 0.9787878787878789,\n",
       " 1.0,\n",
       " 1.0,\n",
       " 0.9949999999999999,\n",
       " 1.0,\n",
       " 0.990909090909091,\n",
       " 0.9978260869565216,\n",
       " 0.9604761904761906,\n",
       " 0.9897435897435898,\n",
       " 0.8764705882352942,\n",
       " 0.9974999999999999,\n",
       " 0.9943396226415094,\n",
       " 1.0,\n",
       " 1.0,\n",
       " 0.99,\n",
       " 1.0,\n",
       " 0.940909090909091,\n",
       " 1.0,\n",
       " 0.9974358974358974,\n",
       " 0.9883076923076924,\n",
       " 1.0,\n",
       " 1.0,\n",
       " 1.0,\n",
       " 1.0,\n",
       " 1.0,\n",
       " 1.0,\n",
       " 0.9944444444444445,\n",
       " 0.868421052631579,\n",
       " 0.9723076923076924,\n",
       " 0.9857843137254901,\n",
       " 0.925,\n",
       " 1.0,\n",
       " 1.0,\n",
       " 0.9617283950617285,\n",
       " 1.0,\n",
       " 0.9691176470588235,\n",
       " 1.0,\n",
       " 1.0,\n",
       " 0.9962962962962962,\n",
       " 0.9960000000000001,\n",
       " 0.9558201058201057,\n",
       " 1.0,\n",
       " 0.9751190476190477,\n",
       " 0.986,\n",
       " 1.0,\n",
       " 0.990909090909091,\n",
       " 0.9503846153846153,\n",
       " 1.0,\n",
       " 0.9933333333333334,\n",
       " 1.0,\n",
       " 1.0,\n",
       " 0.9974358974358974,\n",
       " 0.9970588235294118,\n",
       " 1.0,\n",
       " 1.0,\n",
       " 1.0,\n",
       " 1.0,\n",
       " 1.0,\n",
       " 0.9888888888888889,\n",
       " 0.993103448275862,\n",
       " 0.9721311475409836,\n",
       " 1.0,\n",
       " 0.9972222222222221,\n",
       " 0.874074074074074,\n",
       " 1.0,\n",
       " 0.9530701754385966,\n",
       " 0.93125,\n",
       " 1.0,\n",
       " 1.0,\n",
       " 1.0,\n",
       " 1.0,\n",
       " 0.961111111111111,\n",
       " 0.9876543209876543,\n",
       " 1.0,\n",
       " 0.99,\n",
       " 0.8963168268046318,\n",
       " 0.99,\n",
       " 0.9898297491039425,\n",
       " 1.0,\n",
       " 0.9952380952380953,\n",
       " 0.8434108527131782,\n",
       " 1.0,\n",
       " 0.9963414634146341,\n",
       " 1.0,\n",
       " 1.0,\n",
       " 0.997872340425532,\n",
       " 1.0,\n",
       " 0.9640211640211639,\n",
       " 0.9484848484848485,\n",
       " 0.9947368421052631,\n",
       " 1.0,\n",
       " 1.0,\n",
       " 0.9894736842105264,\n",
       " 0.967878787878788,\n",
       " 1.0,\n",
       " 0.9960000000000001,\n",
       " 0.76,\n",
       " 0.9831891891891893,\n",
       " 0.9896551724137931,\n",
       " 1.0,\n",
       " 1.0,\n",
       " 1.0,\n",
       " 1.0,\n",
       " 1.0,\n",
       " 1.0,\n",
       " 1.0,\n",
       " 0.9650000000000001,\n",
       " 0.966013071895425,\n",
       " 0.9755244755244755,\n",
       " 1.0,\n",
       " 1.0,\n",
       " 0.9363809523809523,\n",
       " 1.0,\n",
       " 0.7924369747899159,\n",
       " 1.0,\n",
       " 1.0,\n",
       " 1.0,\n",
       " 1.0,\n",
       " 1.0,\n",
       " 1.0,\n",
       " 0.985,\n",
       " 1.0,\n",
       " 0.9848484848484848,\n",
       " 1.0,\n",
       " 1.0,\n",
       " 0.9952380952380953,\n",
       " 0.9928571428571429,\n",
       " 0.9547979797979798,\n",
       " 1.0,\n",
       " 1.0,\n",
       " 1.0,\n",
       " 0.9923076923076923,\n",
       " 1.0,\n",
       " 0.9954228421970358,\n",
       " 1.0,\n",
       " 1.0,\n",
       " 0.9939655172413794,\n",
       " 0.9905982905982906,\n",
       " 1.0,\n",
       " 0.9073753047997168,\n",
       " 0.8613306315433975,\n",
       " 0.9787878787878789,\n",
       " 1.0,\n",
       " 0.7792753623188406,\n",
       " 1.0,\n",
       " 0.9928571428571429,\n",
       " 0.9652597402597403,\n",
       " 0.9913043478260869,\n",
       " 1.0,\n",
       " 1.0,\n",
       " 0.975,\n",
       " 1.0,\n",
       " 1.0,\n",
       " 0.9941176470588236,\n",
       " 0.9916666666666666,\n",
       " 1.0,\n",
       " 0.9951807228915662,\n",
       " 1.0,\n",
       " 0.8966666666666667,\n",
       " 0.9746753246753247,\n",
       " 1.0,\n",
       " 0.9976190476190476,\n",
       " 1.0,\n",
       " 1.0,\n",
       " 1.0,\n",
       " 0.8642292490118576,\n",
       " 1.0,\n",
       " 1.0,\n",
       " 1.0,\n",
       " 0.9826302729528535,\n",
       " 1.0,\n",
       " 1.0,\n",
       " 1.0,\n",
       " 1.0,\n",
       " 1.0,\n",
       " 0.9949999999999999,\n",
       " 0.8870208105147863,\n",
       " 0.9175000000000001,\n",
       " 0.95,\n",
       " 1.0,\n",
       " 0.8730158730158731,\n",
       " 1.0,\n",
       " 1.0,\n",
       " 1.0,\n",
       " 0.8743589743589745,\n",
       " 0.9864253393665159,\n",
       " 0.9464285714285714,\n",
       " 1.0,\n",
       " 1.0,\n",
       " 1.0,\n",
       " 0.9963636363636365,\n",
       " 1.0,\n",
       " 1.0,\n",
       " 0.9504761904761905,\n",
       " 0.9872340425531915,\n",
       " 0.976,\n",
       " 0.9777777777777779,\n",
       " 0.990909090909091,\n",
       " 1.0,\n",
       " 0.9939393939393939,\n",
       " 0.9954022988505746,\n",
       " 1.0,\n",
       " 1.0,\n",
       " 1.0,\n",
       " 0.9974683544303797,\n",
       " 1.0,\n",
       " 0.9964285714285716,\n",
       " 0.9,\n",
       " 1.0,\n",
       " 0.905,\n",
       " 0.9485476718403547,\n",
       " 0.9513636363636364,\n",
       " 1.0,\n",
       " 1.0,\n",
       " 1.0,\n",
       " 0.9739130434782609,\n",
       " 1.0,\n",
       " 0.9428070175438595,\n",
       " 0.9960000000000001,\n",
       " 0.9787139689578715,\n",
       " 0.9952380952380953,\n",
       " 1.0,\n",
       " 1.0,\n",
       " 1.0,\n",
       " 1.0,\n",
       " 1.0,\n",
       " 0.9714285714285715,\n",
       " 1.0,\n",
       " 0.9858695652173914,\n",
       " 1.0,\n",
       " 1.0,\n",
       " 0.9827586206896551,\n",
       " 0.9817142857142857,\n",
       " 0.9727272727272727,\n",
       " 1.0,\n",
       " 0.8763504611330699,\n",
       " 1.0,\n",
       " 0.9936945812807881,\n",
       " 0.9606286748077792,\n",
       " 1.0,\n",
       " 1.0,\n",
       " 0.9400000000000001,\n",
       " 1.0,\n",
       " 1.0,\n",
       " 0.9916666666666666,\n",
       " 0.9666666666666666,\n",
       " 0.9642424242424242,\n",
       " 0.9801219512195122,\n",
       " 0.9736842105263157,\n",
       " 1.0,\n",
       " 1.0,\n",
       " 0.9519884638737098,\n",
       " 1.0,\n",
       " 0.8126597540390644,\n",
       " 1.0,\n",
       " 0.9734782608695653,\n",
       " 0.962638888888889,\n",
       " 0.9464705882352942,\n",
       " 0.9557142857142857,\n",
       " 1.0,\n",
       " 0.9944444444444445,\n",
       " 0.9888888888888889,\n",
       " 0.9702380952380952,\n",
       " 1.0,\n",
       " 0.9971428571428571,\n",
       " 0.8953125,\n",
       " 0.9888888888888889,\n",
       " 1.0,\n",
       " 0.9782467532467531,\n",
       " 1.0,\n",
       " 0.9678571428571429,\n",
       " 0.9941176470588236,\n",
       " 0.9633333333333333,\n",
       " 1.0,\n",
       " 1.0,\n",
       " 0.9947916666666666,\n",
       " 1.0,\n",
       " 1.0,\n",
       " 0.9958333333333333,\n",
       " 1.0,\n",
       " 1.0,\n",
       " 0.95,\n",
       " 1.0,\n",
       " 1.0,\n",
       " 1.0,\n",
       " 0.9432591093117407,\n",
       " 0.9563012181616835,\n",
       " 1.0,\n",
       " 1.0,\n",
       " 0.960737812911726,\n",
       " 1.0,\n",
       " 0.9816326530612244,\n",
       " 0.8961805555555555,\n",
       " 0.9956521739130434,\n",
       " 0.99375,\n",
       " 1.0,\n",
       " 0.890909090909091,\n",
       " 0.9933333333333334,\n",
       " 0.861111111111111,\n",
       " 1.0,\n",
       " 1.0,\n",
       " 0.992,\n",
       " 0.95,\n",
       " 0.9892857142857142,\n",
       " 0.9917458945548834,\n",
       " 0.9966666666666667,\n",
       " 1.0,\n",
       " 0.9860465116279069,\n",
       " 0.9955882352941178,\n",
       " 0.9894736842105264,\n",
       " 1.0,\n",
       " 0.9884615384615385,\n",
       " 1.0,\n",
       " 0.9375,\n",
       " 0.924,\n",
       " 1.0,\n",
       " 0.9956521739130434,\n",
       " 0.7316666666666667,\n",
       " 0.9976744186046511,\n",
       " 0.8288888888888888,\n",
       " 1.0,\n",
       " 0.9730676328502416,\n",
       " 0.975,\n",
       " 0.9355555555555556,\n",
       " 1.0,\n",
       " 1.0,\n",
       " 1.0,\n",
       " 1.0,\n",
       " 0.9199999999999999,\n",
       " 1.0,\n",
       " 0.9714285714285715,\n",
       " 0.9395833333333334,\n",
       " 1.0,\n",
       " 0.9949999999999999,\n",
       " 1.0,\n",
       " 1.0,\n",
       " 0.6857142857142857,\n",
       " 0.9842105263157894,\n",
       " 0.9878787878787879,\n",
       " 0.9824561403508772,\n",
       " 0.9879999999999999,\n",
       " 1.0,\n",
       " 1.0,\n",
       " 1.0,\n",
       " 1.0,\n",
       " 1.0,\n",
       " 0.9828070175438597,\n",
       " 1.0,\n",
       " 1.0,\n",
       " 0.9578539107950874,\n",
       " 1.0,\n",
       " 0.9967741935483871,\n",
       " 0.9916666666666666,\n",
       " 1.0,\n",
       " 1.0,\n",
       " 1.0,\n",
       " 0.8572903225806453,\n",
       " 1.0,\n",
       " 1.0,\n",
       " 0.8866666666666667,\n",
       " 1.0,\n",
       " 0.9979166666666666,\n",
       " 1.0,\n",
       " 0.9794117647058822,\n",
       " 1.0,\n",
       " 0.9768571428571429,\n",
       " 0.9511363636363637,\n",
       " 1.0,\n",
       " 0.9406593406593406,\n",
       " 0.9691176470588235,\n",
       " 1.0,\n",
       " 0.9615648592999314,\n",
       " 0.9964285714285716,\n",
       " 1.0,\n",
       " 0.9904761904761905,\n",
       " 0.8482352941176471,\n",
       " 0.941304347826087,\n",
       " 0.95,\n",
       " 0.99,\n",
       " 1.0,\n",
       " 0.9944444444444445,\n",
       " 0.9375,\n",
       " 1.0,\n",
       " ...]"
      ]
     },
     "execution_count": 584,
     "metadata": {},
     "output_type": "execute_result"
    }
   ],
   "source": [
    "cumulative_jaccard_list"
   ]
  },
  {
   "cell_type": "code",
   "execution_count": 896,
   "id": "693cad4c",
   "metadata": {},
   "outputs": [
    {
     "data": {
      "text/plain": [
       "<AxesSubplot:ylabel='Count'>"
      ]
     },
     "execution_count": 896,
     "metadata": {},
     "output_type": "execute_result"
    },
    {
     "data": {
      "image/png": "[encoded data removed]",
      "text/plain": [
       "<Figure size 432x288 with 1 Axes>"
      ]
     },
     "metadata": {},
     "output_type": "display_data"
    }
   ],
   "source": [
    "sns.histplot(jaccard_list, kde=True, bins=14)"
   ]
  },
  {
   "cell_type": "code",
   "execution_count": 897,
   "id": "a702f5e0",
   "metadata": {},
   "outputs": [],
   "source": [
    "state_vector_list = []\n",
    "for i in range(new_old_adj.shape[0]):\n",
    "    state_vector_list.append(calc_l2(new_old_adj[i], new_u_adj[i]))"
   ]
  },
  {
   "cell_type": "code",
   "execution_count": 898,
   "id": "d843bcd1",
   "metadata": {},
   "outputs": [
    {
     "data": {
      "text/plain": [
       "(array([1288., 1781.,  968.,  456.,  229.,  129.,   72.,   51.,   39.,\n",
       "          28.]),\n",
       " array([  0.,  10.,  20.,  30.,  40.,  50.,  60.,  70.,  80.,  90., 100.]),\n",
       " <BarContainer object of 10 artists>)"
      ]
     },
     "execution_count": 898,
     "metadata": {},
     "output_type": "execute_result"
    },
    {
     "data": {
      "image/png": "[encoded data removed]",
      "text/plain": [
       "<Figure size 432x288 with 1 Axes>"
      ]
     },
     "metadata": {},
     "output_type": "display_data"
    }
   ],
   "source": [
    "plt.hist(state_vector_list, bins=10, range=[0,100])"
   ]
  },
  {
   "cell_type": "code",
   "execution_count": 899,
   "id": "d11077be",
   "metadata": {},
   "outputs": [
    {
     "data": {
      "text/plain": [
       "(0.0, 100.0)"
      ]
     },
     "execution_count": 899,
     "metadata": {},
     "output_type": "execute_result"
    },
    {
     "data": {
      "image/png": "[encoded data removed]",
      "text/plain": [
       "<Figure size 432x288 with 1 Axes>"
      ]
     },
     "metadata": {},
     "output_type": "display_data"
    }
   ],
   "source": [
    "sns.histplot(state_vector_list, kde=True)\n",
    "plt.xlim(0,100)"
   ]
  },
  {
   "cell_type": "code",
   "execution_count": 900,
   "id": "52a5b7a5",
   "metadata": {},
   "outputs": [
    {
     "data": {
      "text/plain": [
       "array([[ 1.        , -0.30104575],\n",
       "       [-0.30104575,  1.        ]])"
      ]
     },
     "execution_count": 900,
     "metadata": {},
     "output_type": "execute_result"
    }
   ],
   "source": [
    "np.corrcoef(jaccard_list, state_vector_list)"
   ]
  },
  {
   "cell_type": "code",
   "execution_count": 901,
   "id": "a0276210",
   "metadata": {},
   "outputs": [
    {
     "data": {
      "text/plain": [
       "array([[ 1.        , -0.40295468],\n",
       "       [-0.40295468,  1.        ]])"
      ]
     },
     "execution_count": 901,
     "metadata": {},
     "output_type": "execute_result"
    }
   ],
   "source": [
    "np.corrcoef(jaccard_list[:250], state_vector_list[:250])"
   ]
  },
  {
   "cell_type": "code",
   "execution_count": 902,
   "id": "2df7e385",
   "metadata": {},
   "outputs": [
    {
     "data": {
      "text/plain": [
       "KendalltauResult(correlation=-0.21987101956633284, pvalue=4.0105887819611096e-119)"
      ]
     },
     "execution_count": 902,
     "metadata": {},
     "output_type": "execute_result"
    }
   ],
   "source": [
    "scipy.stats.kendalltau(jaccard_list, state_vector_list)"
   ]
  },
  {
   "cell_type": "code",
   "execution_count": 903,
   "id": "645b0fab",
   "metadata": {},
   "outputs": [
    {
     "data": {
      "text/plain": [
       "KendalltauResult(correlation=-0.2722056731967133, pvalue=2.675280890414374e-10)"
      ]
     },
     "execution_count": 903,
     "metadata": {},
     "output_type": "execute_result"
    }
   ],
   "source": [
    "scipy.stats.kendalltau(jaccard_list[:250], state_vector_list[:250])"
   ]
  },
  {
   "cell_type": "code",
   "execution_count": 904,
   "id": "76ba4c71",
   "metadata": {},
   "outputs": [
    {
     "data": {
      "text/plain": [
       "SpearmanrResult(correlation=-0.30847959990277, pvalue=8.009518573545718e-113)"
      ]
     },
     "execution_count": 904,
     "metadata": {},
     "output_type": "execute_result"
    }
   ],
   "source": [
    "scipy.stats.spearmanr(jaccard_list, state_vector_list)"
   ]
  },
  {
   "cell_type": "code",
   "execution_count": 905,
   "id": "85713628",
   "metadata": {},
   "outputs": [
    {
     "data": {
      "text/plain": [
       "SpearmanrResult(correlation=0.36073650947816155, pvalue=1.6564691259654251e-156)"
      ]
     },
     "execution_count": 905,
     "metadata": {},
     "output_type": "execute_result"
    }
   ],
   "source": [
    "scipy.stats.spearmanr(cumulative_jaccard_list, state_vector_list)"
   ]
  },
  {
   "cell_type": "code",
   "execution_count": 906,
   "id": "6c91ee2c",
   "metadata": {},
   "outputs": [
    {
     "data": {
      "text/plain": [
       "SpearmanrResult(correlation=-0.07517436791574347, pvalue=0.2362821060282426)"
      ]
     },
     "execution_count": 906,
     "metadata": {},
     "output_type": "execute_result"
    }
   ],
   "source": [
    "scipy.stats.spearmanr(cumulative_jaccard_list[:250], state_vector_list[:250])"
   ]
  },
  {
   "cell_type": "code",
   "execution_count": 907,
   "id": "2d7f2e65",
   "metadata": {},
   "outputs": [
    {
     "data": {
      "text/plain": [
       "SpearmanrResult(correlation=-0.39397578907733055, pvalue=1.0380550924658964e-10)"
      ]
     },
     "execution_count": 907,
     "metadata": {},
     "output_type": "execute_result"
    }
   ],
   "source": [
    "scipy.stats.spearmanr(jaccard_list[:250], state_vector_list[:250])"
   ]
  },
  {
   "cell_type": "code",
   "execution_count": 908,
   "id": "7abab7b3",
   "metadata": {},
   "outputs": [
    {
     "data": {
      "text/plain": [
       "SpearmanrResult(correlation=-0.39397578907733055, pvalue=1.0380550924658964e-10)"
      ]
     },
     "execution_count": 908,
     "metadata": {},
     "output_type": "execute_result"
    }
   ],
   "source": [
    "scipy.stats.spearmanr(jaccard_list[:250], state_vector_list[:250])"
   ]
  },
  {
   "cell_type": "code",
   "execution_count": 909,
   "id": "61111ea0",
   "metadata": {},
   "outputs": [
    {
     "data": {
      "text/plain": [
       "SpearmanrResult(correlation=0.08467288717649563, pvalue=1.4036426411231825e-09)"
      ]
     },
     "execution_count": 909,
     "metadata": {},
     "output_type": "execute_result"
    }
   ],
   "source": [
    "scipy.stats.spearmanr(jaccard_list, jaccard_list_future)"
   ]
  },
  {
   "cell_type": "code",
   "execution_count": 910,
   "id": "39c23a56",
   "metadata": {},
   "outputs": [
    {
     "data": {
      "text/plain": [
       "array([[1.        , 0.14919202],\n",
       "       [0.14919202, 1.        ]])"
      ]
     },
     "execution_count": 910,
     "metadata": {},
     "output_type": "execute_result"
    }
   ],
   "source": [
    "np.corrcoef(jaccard_list, jaccard_list_future)"
   ]
  },
  {
   "cell_type": "code",
   "execution_count": 911,
   "id": "00244861",
   "metadata": {},
   "outputs": [
    {
     "data": {
      "text/plain": [
       "SpearmanrResult(correlation=0.6888550591960072, pvalue=0.0)"
      ]
     },
     "execution_count": 911,
     "metadata": {},
     "output_type": "execute_result"
    }
   ],
   "source": [
    "scipy.stats.spearmanr(cumulative_jaccard_list, jaccard_list_future)"
   ]
  },
  {
   "cell_type": "code",
   "execution_count": 912,
   "id": "a7e00b18",
   "metadata": {},
   "outputs": [
    {
     "data": {
      "text/plain": [
       "SpearmanrResult(correlation=0.36073650947816155, pvalue=1.6564691259654251e-156)"
      ]
     },
     "execution_count": 912,
     "metadata": {},
     "output_type": "execute_result"
    }
   ],
   "source": [
    "scipy.stats.spearmanr(cumulative_jaccard_list, state_vector_list)"
   ]
  },
  {
   "cell_type": "code",
   "execution_count": null,
   "id": "928ed47f",
   "metadata": {},
   "outputs": [],
   "source": []
  },
  {
   "cell_type": "code",
   "execution_count": null,
   "id": "9a2184ce",
   "metadata": {},
   "outputs": [],
   "source": []
  },
  {
   "cell_type": "code",
   "execution_count": null,
   "id": "f590bb46",
   "metadata": {},
   "outputs": [],
   "source": []
  },
  {
   "cell_type": "code",
   "execution_count": null,
   "id": "8612120a",
   "metadata": {},
   "outputs": [],
   "source": []
  },
  {
   "cell_type": "code",
   "execution_count": null,
   "id": "b3a69276",
   "metadata": {},
   "outputs": [],
   "source": []
  },
  {
   "cell_type": "code",
   "execution_count": null,
   "id": "ffb6806e",
   "metadata": {},
   "outputs": [],
   "source": []
  },
  {
   "cell_type": "code",
   "execution_count": null,
   "id": "e7338043",
   "metadata": {},
   "outputs": [],
   "source": []
  },
  {
   "cell_type": "code",
   "execution_count": null,
   "id": "b459569e",
   "metadata": {},
   "outputs": [],
   "source": []
  },
  {
   "cell_type": "code",
   "execution_count": null,
   "id": "b1ac71af",
   "metadata": {},
   "outputs": [],
   "source": []
  },
  {
   "cell_type": "markdown",
   "id": "3e6a2d25",
   "metadata": {},
   "source": [
    "### Same analysis for Taobao 2014"
   ]
  },
  {
   "cell_type": "code",
   "execution_count": 500,
   "id": "25446a39",
   "metadata": {},
   "outputs": [
    {
     "data": {
      "text/plain": [
       "array([[ 0.18977212,  0.07465752,  0.13323822, ...,  0.0741361 ,\n",
       "         0.14977315,  0.13062007],\n",
       "       [ 0.06950539,  0.00248714, -0.02783622, ...,  0.07218809,\n",
       "         0.00595022, -0.02338754],\n",
       "       [-0.3274235 , -0.05876044, -0.10862799, ..., -0.10532948,\n",
       "        -0.18947497, -0.11262792],\n",
       "       ...,\n",
       "       [-0.05691182, -0.00274529, -0.11291194, ..., -0.11145334,\n",
       "        -0.01929258, -0.07008058],\n",
       "       [ 0.40924574, -0.15441833,  0.04631974, ...,  0.12269834,\n",
       "         0.40566768,  0.11079862],\n",
       "       [ 0.        ,  0.        ,  0.        , ...,  0.        ,\n",
       "         0.        ,  0.        ]])"
      ]
     },
     "execution_count": 500,
     "metadata": {},
     "output_type": "execute_result"
    }
   ],
   "source": [
    "np.load('Sanity_check/taobao1/i_rep_b1e1.npy')-np.load('Sanity_check/taobao1/i_rep_b1e10.npy') # first layer"
   ]
  },
  {
   "cell_type": "code",
   "execution_count": 505,
   "id": "0b80a6f6",
   "metadata": {},
   "outputs": [
    {
     "data": {
      "text/plain": [
       "dict_keys(['train', 'n_user_train', 'n_item_train', 'val', 'n_user_val', 'n_item_val', 'test', 'n_user_test', 'n_item_test', 'acc_train', 'acc_train_plus_val', 'acc_train_plus_val_test', 'train_matrix', 'val_matrix', 'test_matrix'])"
      ]
     },
     "execution_count": 505,
     "metadata": {},
     "output_type": "execute_result"
    }
   ],
   "source": [
    "data_generator = Data(dataset='taobao1', split=[0.6,3,0.1], \n",
    "                        shuffle=True, split_mode='abs', test_ratio=0,\n",
    "                        seed=22)\n",
    "data_blocks = data_generator.blocks\n",
    "data_blocks[2].keys()"
   ]
  },
  {
   "cell_type": "code",
   "execution_count": 506,
   "id": "d525aa03",
   "metadata": {},
   "outputs": [],
   "source": [
    "for i in range(1,4):\n",
    "\n",
    "    train_matrix = data_blocks[i]['train']\n",
    "\n",
    "    n_item = data_blocks[i]['n_item_train']\n",
    "    n_user = data_blocks[i]['n_user_train']\n",
    "    u_adj_list = convert_adj(train_matrix, n_item)\n",
    "    \n",
    "\n",
    "    old_train_matrix = data_blocks[i-1]['train']\n",
    "    old_n_item = data_blocks[i-1]['n_item_train']\n",
    "    old_n_user = data_blocks[i-1]['n_user_train']\n",
    "    \n",
    "    old_u_adj_list = convert_adj(old_train_matrix, old_n_item)\n",
    "    np.save(f\"Sanity_check/taobao1/user_item_adj_{i}.npy\", u_adj_list)\n",
    "    np.save(f\"Sanity_check/taobao1/old_user_item_adj_{i}.npy\", old_u_adj_list)\n",
    "    if i!= 3:\n",
    "        next_train_matrix = data_blocks[i+1]['train']\n",
    "        next_n_item = data_blocks[i+1]['n_item_train']\n",
    "        next_n_user = data_blocks[i+1]['n_user_train']\n",
    "        next_u_adj_list = convert_adj(next_train_matrix, next_n_item)\n",
    "        np.save(f\"Sanity_check/taobao1/next_user_item_adj_{i}.npy\", next_u_adj_list)\n",
    "\n",
    "    \n",
    "    if i == 3:\n",
    "        n_test_item = data_blocks[i]['n_item_test']\n",
    "        u_adj_list_test = data_blocks[i]['test']\n",
    "        n_val_item = data_blocks[i]['n_item_val']\n",
    "        u_adj_list_val = data_blocks[i]['val']\n",
    "        next_u_adj_matrix = union_lists_of_list(u_adj_list_test, u_adj_list_val)\n",
    "        next_u_adj_list = convert_adj(next_u_adj_matrix, max(n_test_item, n_val_item))\n",
    "        \n",
    "        np.save(f\"Sanity_check/taobao1/next_user_item_adj_{i}.npy\", next_u_adj_list)\n",
    "        "
   ]
  },
  {
   "cell_type": "code",
   "execution_count": 503,
   "id": "27230ef4",
   "metadata": {},
   "outputs": [
    {
     "name": "stdout",
     "output_type": "stream",
     "text": [
      "Choose_K\n",
      "6\n"
     ]
    }
   ],
   "source": [
    "item_embeddings = np.load('Sanity_check/taobao1/i_rep_b1e18.npy')\n",
    "best_k, y_kmeans = get_item_cluster(item_embeddings)"
   ]
  },
  {
   "cell_type": "code",
   "execution_count": 507,
   "id": "f1037916",
   "metadata": {},
   "outputs": [
    {
     "data": {
      "application/vnd.jupyter.widget-view+json": {
       "model_id": "0d9d0de9237d4e6fbbdb5323b4d69fb4",
       "version_major": 2,
       "version_minor": 0
      },
      "text/plain": [
       "  0%|          | 0/8691 [00:00<?, ?it/s]"
      ]
     },
     "metadata": {},
     "output_type": "display_data"
    }
   ],
   "source": [
    "old_u_adj_list = np.load(\"Sanity_check/taobao1/old_user_item_adj_1.npy\")\n",
    "old_n_user, old_n_item = old_u_adj_list.shape\n",
    "u_adj_list = np.load(\"Sanity_check/taobao1/user_item_adj_1.npy\")[:old_n_user, :old_n_item]\n",
    "next_u_adj_list = np.load(\"Sanity_check/taobao1/next_user_item_adj_1.npy\")[:old_n_user, :old_n_item]\n",
    "new_u_adj, new_old_adj, new_next_adj = convert_u_adj(u_adj_list, old_u_adj_list, next_u_adj_list, best_k, y_kmeans[:old_n_item], saved_file=None)"
   ]
  },
  {
   "cell_type": "code",
   "execution_count": 508,
   "id": "bf6d34f1",
   "metadata": {},
   "outputs": [],
   "source": [
    "np.save(f\"Sanity_check/taobao1/new_u_adj.npy\", new_u_adj)\n",
    "np.save(f\"Sanity_check/taobao1/new_old_adj.npy\", new_old_adj)\n",
    "np.save(f\"Sanity_check/taobao1/new_next_adj.npy\", new_next_adj)"
   ]
  },
  {
   "cell_type": "code",
   "execution_count": 509,
   "id": "4b9797dc",
   "metadata": {},
   "outputs": [],
   "source": [
    "jaccard_list_future = []\n",
    "for i in range(new_old_adj.shape[0]):\n",
    "    jaccard_list_future.append(calc_jaccard(new_u_adj[i], new_next_adj[i]))\n",
    "    \n",
    "cumulative_jaccard_list = []\n",
    "for i in range(new_old_adj.shape[0]):\n",
    "    cumulative_jaccard_list.append(calc_jaccard(new_old_adj[i], new_old_adj[i] + new_u_adj[i]))"
   ]
  },
  {
   "cell_type": "code",
   "execution_count": 510,
   "id": "5c633c55",
   "metadata": {},
   "outputs": [
    {
     "data": {
      "text/plain": [
       "(array([   7.,   19.,   50.,   89.,  160.,  289.,  583., 1069., 1810.,\n",
       "        4615.]),\n",
       " array([0.11111111, 0.2       , 0.28888889, 0.37777778, 0.46666667,\n",
       "        0.55555556, 0.64444444, 0.73333333, 0.82222222, 0.91111111,\n",
       "        1.        ]),\n",
       " <BarContainer object of 10 artists>)"
      ]
     },
     "execution_count": 510,
     "metadata": {},
     "output_type": "execute_result"
    },
    {
     "data": {
      "image/png": "[encoded data removed]",
      "text/plain": [
       "<Figure size 432x288 with 1 Axes>"
      ]
     },
     "metadata": {},
     "output_type": "display_data"
    }
   ],
   "source": [
    "plt.hist(cumulative_jaccard_list, bins=10)"
   ]
  },
  {
   "cell_type": "code",
   "execution_count": 511,
   "id": "a49e7819",
   "metadata": {},
   "outputs": [
    {
     "data": {
      "text/plain": [
       "(array([ 227.,  484.,  598., 1350.,  862., 1685., 1320.,  338.,  833.,\n",
       "         994.]),\n",
       " array([0. , 0.1, 0.2, 0.3, 0.4, 0.5, 0.6, 0.7, 0.8, 0.9, 1. ]),\n",
       " <BarContainer object of 10 artists>)"
      ]
     },
     "execution_count": 511,
     "metadata": {},
     "output_type": "execute_result"
    },
    {
     "data": {
      "image/png": "[encoded data removed]",
      "text/plain": [
       "<Figure size 432x288 with 1 Axes>"
      ]
     },
     "metadata": {},
     "output_type": "display_data"
    }
   ],
   "source": [
    "plt.hist(jaccard_list_future, bins=10)"
   ]
  },
  {
   "cell_type": "code",
   "execution_count": 512,
   "id": "779acc53",
   "metadata": {},
   "outputs": [
    {
     "data": {
      "text/plain": [
       "SpearmanrResult(correlation=0.44937721909640294, pvalue=0.0)"
      ]
     },
     "execution_count": 512,
     "metadata": {},
     "output_type": "execute_result"
    }
   ],
   "source": [
    "scipy.stats.spearmanr(cumulative_jaccard_list, jaccard_list_future)"
   ]
  },
  {
   "cell_type": "code",
   "execution_count": 1525,
   "id": "0a043248",
   "metadata": {},
   "outputs": [
    {
     "data": {
      "application/vnd.jupyter.widget-view+json": {
       "model_id": "a0bd4a375b36452ea508fa1257783fb8",
       "version_major": 2,
       "version_minor": 0
      },
      "text/plain": [
       "  0%|          | 0/8691 [00:00<?, ?it/s]"
      ]
     },
     "metadata": {},
     "output_type": "display_data"
    }
   ],
   "source": [
    "data_generator = Data(dataset='taobao1', split=[0.6,3,0.1], \n",
    "                        shuffle=True, split_mode='abs', test_ratio=0,\n",
    "                        seed=22)\n",
    "data_blocks = data_generator.blocks\n",
    "data_blocks[2].keys()\n",
    "\n",
    "item_embeddings = np.load('Sanity_check/taobao1/i_rep_b1e18.npy')\n",
    "best_k, y_kmeans = get_item_cluster(item_embeddings, 30)\n",
    "\n",
    "old_u_adj_list = np.load(\"Sanity_check/taobao1/old_user_item_adj_1.npy\")\n",
    "old_n_user, old_n_item = old_u_adj_list.shape\n",
    "u_adj_list = np.load(\"Sanity_check/taobao1/user_item_adj_1.npy\")[:old_n_user, :old_n_item]\n",
    "next_u_adj_list = np.load(\"Sanity_check/taobao1/next_user_item_adj_1.npy\")[:old_n_user, :old_n_item]\n",
    "new_next_u_adj_list = np.load(\"Sanity_check/taobao1/next_user_item_adj_2.npy\")[:old_n_user, :old_n_item]\n",
    "\n",
    "new_u_adj, new_old_adj, new_next_adj, next_next_u_adj_list = convert_u_adj(u_adj_list, old_u_adj_list, next_u_adj_list, new_next_u_adj_list, best_k, y_kmeans[:old_n_item], saved_file=None)\n",
    "\n",
    "# def get_dynamic_users(prev_block, cur_block, next_block, next_next_block, item_embeddings, block=1, k_items=30, dataset=\"taobao1\"):\n",
    "#     k_items, y_kmeans = get_item_cluster(item_embeddings, k_items)\n",
    "#     new_u_adj, new_old_adj, new_next_adj, new_next_next_adj = convert_u_adj(cur_block, prev_block, next_block, next_next_block, k_items, y_kmeans[:old_n_item], saved_file=None)\n",
    "# #     new_u_adj, new_old_adj, new_next_adj, new_next_next_adj = convert_u_adj(u_adj_list, old_u_adj_list, next_u_adj_list, next_next_u_adj_list, best_k, y_kmeans[:old_n_item], saved_file=None)\n",
    "\n",
    "dataset = 'taobao1'\n",
    "block = 1\n",
    "np.save(\"Sanity_check/{}/ui_cluster_block_{}.npy\".format(dataset, block - 1), new_u_adj)\n",
    "np.save(\"Sanity_check/{}/ui_cluster_block_{}.npy\".format(dataset, block), new_old_adj)\n",
    "np.save(\"Sanity_check/{}/ui_cluster_block_{}.npy\".format(dataset, block + 1), new_next_adj)\n",
    "np.save(\"Sanity_check/{}/ui_cluster_block_{}.npy\".format(dataset, block + 2), new_next_next_adj)\n",
    "\n",
    "# old_u_adj_list = np.load(\"Sanity_check/taobao1/old_user_item_adj_1.npy\")\n",
    "# old_n_user, old_n_item = old_u_adj_list.shape\n",
    "# u_adj_list = np.load(\"Sanity_check/taobao1/user_item_adj_1.npy\")[:old_n_user, :old_n_item]\n",
    "# next_u_adj_list = np.load(\"Sanity_check/taobao1/next_user_item_adj_1.npy\")[:old_n_user, :old_n_item]\n",
    "# next_next_u_adj_list = np.load(\"Sanity_check/taobao1/next_user_item_adj_2.npy\")[:old_n_user, :old_n_item]\n",
    "\n",
    "# get_dynamic_users(u_adj_list, old_u_adj_list, next_u_adj_list, next_next_u_adj_list, item_embeddings)"
   ]
  },
  {
   "cell_type": "code",
   "execution_count": 1540,
   "id": "eade8c39",
   "metadata": {},
   "outputs": [],
   "source": [
    "old_u_adj_list = np.load(\"Sanity_check/taobao1/old_user_item_adj_1.npy\")\n",
    "old_n_user, old_n_item = old_u_adj_list.shape\n",
    "new_old_adj = np.load(\"Sanity_check/{}/ui_cluster_block_{}.npy\".format(\"taobao1\", 0))\n",
    "new_u_adj = np.load(\"Sanity_check/{}/ui_cluster_block_{}.npy\".format(\"taobao1\", 1))[:old_n_user, :old_n_item]\n",
    "new_next_adj = np.load(\"Sanity_check/{}/ui_cluster_block_{}.npy\".format(\"taobao1\", 2))[:old_n_user, :old_n_item]\n",
    "new_next_next_adj = np.load(\"Sanity_check/{}/ui_cluster_block_{}.npy\".format(\"taobao1\", 3))[:old_n_user, :old_n_item]\n",
    "\n",
    "adj_list = [new_u_adj, new_old_adj, new_next_adj]"
   ]
  },
  {
   "cell_type": "code",
   "execution_count": 1542,
   "id": "eed843de",
   "metadata": {},
   "outputs": [
    {
     "name": "stdout",
     "output_type": "stream",
     "text": [
      "(8691, 30)\n",
      "(8691, 30)\n",
      "(8691, 30)\n"
     ]
    }
   ],
   "source": [
    "print(adj_list[0].shape)\n",
    "print(adj_list[1].shape)\n",
    "print(adj_list[2].shape)\n",
    "# print(adj_list[3].shape)"
   ]
  },
  {
   "cell_type": "code",
   "execution_count": 1543,
   "id": "5ecd10d6",
   "metadata": {},
   "outputs": [
    {
     "data": {
      "text/plain": [
       "array([ 6.,  1.,  0.,  1., 41.,  0., 14.,  4., 10.,  2.,  6.,  2.,  1.,\n",
       "        1.,  3.,  0., 10.,  2.,  0.,  5.,  0.,  1.,  0.,  5., 19.,  4.,\n",
       "       14.,  2.,  0.,  0.])"
      ]
     },
     "execution_count": 1543,
     "metadata": {},
     "output_type": "execute_result"
    }
   ],
   "source": [
    "adj_list[0][0]"
   ]
  },
  {
   "cell_type": "code",
   "execution_count": null,
   "id": "dd5ec0a7",
   "metadata": {},
   "outputs": [],
   "source": []
  },
  {
   "cell_type": "code",
   "execution_count": 1546,
   "id": "b0aded88",
   "metadata": {},
   "outputs": [],
   "source": [
    "def get_chi_square_lists2(adj_list, temp = 0):\n",
    "    cumulative_adj_list = list(np.cumsum(adj_list, axis=0))\n",
    "    lists_all = []\n",
    "    p_values_all = []\n",
    "    for i in range(2):\n",
    "        cumulative_KS_list = []\n",
    "        p_values = []\n",
    "        for j in range(adj_list[0].shape[0]):\n",
    "#             (ks_2samp(adj_list[0][555] + 1, adj_list[1][555] + 1))\n",
    "            exp = np.array(cumulative_adj_list[i][j] + temp)\n",
    "            obs = np.array(cumulative_adj_list[i+1][j] + temp)\n",
    "            assert exp.sum() <= obs.sum(), (\"{}, {}\".format(cumulative_adj_list[i][j], cumulative_adj_list[i+1][j]))\n",
    "            cumulative_KS_list.append(chisquare(obs/obs.sum()*exp.sum(), exp)[0])\n",
    "            p_values.append(chisquare(obs/obs.sum()*exp.sum(), exp)[1])\n",
    "        lists_all.append(cumulative_KS_list)\n",
    "        p_values_all.append(p_values)\n",
    "    return lists_all, p_values_all"
   ]
  },
  {
   "cell_type": "code",
   "execution_count": 1570,
   "id": "fcdf85db",
   "metadata": {},
   "outputs": [],
   "source": [
    "def save_chi_squared2(adj_list, dataset, temp=0.1):\n",
    "    _, p = np.array(get_chi_square_lists2(adj_list, temp))\n",
    "    np.save(\"Sanity_check/{}/chi{}.npy\".format(dataset, 1), p[0])\n",
    "    np.save(\"Sanity_check/{}/chi{}.npy\".format(dataset, 2), p[1])\n",
    "#     np.save(\"Sanity_check/{}/chi{}.npy\".format(dataset, 2), p[2])"
   ]
  },
  {
   "cell_type": "code",
   "execution_count": 1571,
   "id": "a12a5464",
   "metadata": {},
   "outputs": [],
   "source": [
    "save_chi_squared2(adj_list, 'taobao1', temp=0.1)"
   ]
  },
  {
   "cell_type": "code",
   "execution_count": 1572,
   "id": "c1cac3a9",
   "metadata": {},
   "outputs": [],
   "source": [
    "chi_sq_0 = np.load(\"Sanity_check/{}/chi{}.npy\".format('taobao1', 1))\n",
    "chi_sq_1 = np.load(\"Sanity_check/{}/chi{}.npy\".format('taobao1', 2))"
   ]
  },
  {
   "cell_type": "code",
   "execution_count": 1573,
   "id": "4af28c46",
   "metadata": {},
   "outputs": [
    {
     "data": {
      "text/plain": [
       "<matplotlib.lines.Line2D at 0x7f7c52322d90>"
      ]
     },
     "execution_count": 1573,
     "metadata": {},
     "output_type": "execute_result"
    },
    {
     "data": {
      "image/png": "[encoded data removed]",
      "text/plain": [
       "<Figure size 432x288 with 1 Axes>"
      ]
     },
     "metadata": {},
     "output_type": "display_data"
    }
   ],
   "source": [
    "plt.scatter(range(chi_sq_0.shape[0]), chi_sq_0, s = 8, marker='.')\n",
    "plt.axhline(y=0.05, color='r', linestyle='-')"
   ]
  },
  {
   "cell_type": "code",
   "execution_count": 1574,
   "id": "b2c2681c",
   "metadata": {},
   "outputs": [
    {
     "data": {
      "text/plain": [
       "<matplotlib.lines.Line2D at 0x7f7c51abd510>"
      ]
     },
     "execution_count": 1574,
     "metadata": {},
     "output_type": "execute_result"
    },
    {
     "data": {
      "image/png": "[encoded data removed]",
      "text/plain": [
       "<Figure size 432x288 with 1 Axes>"
      ]
     },
     "metadata": {},
     "output_type": "display_data"
    }
   ],
   "source": [
    "plt.scatter(range(chi_sq_1.shape[0]), chi_sq_1, s = 8, marker='.')\n",
    "plt.axhline(y=0.05, color='r', linestyle='-')"
   ]
  },
  {
   "cell_type": "code",
   "execution_count": 1575,
   "id": "8820b73c",
   "metadata": {},
   "outputs": [
    {
     "data": {
      "text/plain": [
       "522"
      ]
     },
     "execution_count": 1575,
     "metadata": {},
     "output_type": "execute_result"
    }
   ],
   "source": [
    "(chi_sq_0 < 0.05).sum()"
   ]
  },
  {
   "cell_type": "code",
   "execution_count": 1576,
   "id": "ebcb2bd3",
   "metadata": {},
   "outputs": [
    {
     "data": {
      "text/plain": [
       "557"
      ]
     },
     "execution_count": 1576,
     "metadata": {},
     "output_type": "execute_result"
    }
   ],
   "source": [
    "(chi_sq_1 < 0.05).sum()"
   ]
  },
  {
   "cell_type": "code",
   "execution_count": null,
   "id": "12fa72b9",
   "metadata": {},
   "outputs": [],
   "source": []
  }
 ],
 "metadata": {
  "kernelspec": {
   "display_name": "Python 3 (ipykernel)",
   "language": "python",
   "name": "python3"
  },
  "language_info": {
   "codemirror_mode": {
    "name": "ipython",
    "version": 3
   },
   "file_extension": ".py",
   "mimetype": "text/x-python",
   "name": "python",
   "nbconvert_exporter": "python",
   "pygments_lexer": "ipython3",
   "version": "3.7.6"
  }
 },
 "nbformat": 4,
 "nbformat_minor": 5
}
